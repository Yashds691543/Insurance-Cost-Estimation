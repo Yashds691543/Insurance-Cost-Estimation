{
 "cells": [
  {
   "cell_type": "markdown",
   "id": "f7db3e6a-d75f-4737-8cb6-bfc753e07c09",
   "metadata": {},
   "source": [
    "---\n",
    "\n",
    "#### Dataset: insurance_costs.csv\n",
    "\n",
    "This dataset consists of 6 features and 1 target variable (\"charges\").  Each row is an insurance customer.  \n",
    "\n",
    "The features are about the gender, age, bmi, the number of children, whether the customer smokes, and where the customer lives.\n",
    "\n",
    "The \"charges\" is how much each customer had to pay."
   ]
  },
  {
   "cell_type": "code",
   "execution_count": 2,
   "id": "07b62ef6-23f4-47bd-9ff6-3128a85c2a87",
   "metadata": {},
   "outputs": [
    {
     "data": {
      "text/html": [
       "<div>\n",
       "<style scoped>\n",
       "    .dataframe tbody tr th:only-of-type {\n",
       "        vertical-align: middle;\n",
       "    }\n",
       "\n",
       "    .dataframe tbody tr th {\n",
       "        vertical-align: top;\n",
       "    }\n",
       "\n",
       "    .dataframe thead th {\n",
       "        text-align: right;\n",
       "    }\n",
       "</style>\n",
       "<table border=\"1\" class=\"dataframe\">\n",
       "  <thead>\n",
       "    <tr style=\"text-align: right;\">\n",
       "      <th></th>\n",
       "      <th>age</th>\n",
       "      <th>sex</th>\n",
       "      <th>bmi</th>\n",
       "      <th>children</th>\n",
       "      <th>smoker</th>\n",
       "      <th>region</th>\n",
       "      <th>charges</th>\n",
       "    </tr>\n",
       "  </thead>\n",
       "  <tbody>\n",
       "    <tr>\n",
       "      <th>700</th>\n",
       "      <td>21</td>\n",
       "      <td>female</td>\n",
       "      <td>34.87</td>\n",
       "      <td>0</td>\n",
       "      <td>no</td>\n",
       "      <td>southeast</td>\n",
       "      <td>2020.55230</td>\n",
       "    </tr>\n",
       "    <tr>\n",
       "      <th>407</th>\n",
       "      <td>47</td>\n",
       "      <td>female</td>\n",
       "      <td>23.60</td>\n",
       "      <td>1</td>\n",
       "      <td>no</td>\n",
       "      <td>southwest</td>\n",
       "      <td>8539.67100</td>\n",
       "    </tr>\n",
       "    <tr>\n",
       "      <th>9</th>\n",
       "      <td>60</td>\n",
       "      <td>female</td>\n",
       "      <td>25.84</td>\n",
       "      <td>0</td>\n",
       "      <td>no</td>\n",
       "      <td>northwest</td>\n",
       "      <td>28923.13692</td>\n",
       "    </tr>\n",
       "  </tbody>\n",
       "</table>\n",
       "</div>"
      ],
      "text/plain": [
       "     age     sex    bmi  children smoker     region      charges\n",
       "700   21  female  34.87         0     no  southeast   2020.55230\n",
       "407   47  female  23.60         1     no  southwest   8539.67100\n",
       "9     60  female  25.84         0     no  northwest  28923.13692"
      ]
     },
     "execution_count": 2,
     "metadata": {},
     "output_type": "execute_result"
    }
   ],
   "source": [
    "import pandas\n",
    "insurance = pandas.read_csv('/Users/yashds/Documents/UofM/SECOND SEM/FDS/Datasets/insurance_costs.csv')\n",
    "insurance.sample(3)"
   ]
  },
  {
   "cell_type": "markdown",
   "id": "81d5d9a7-e15f-486f-aadb-30646fea422e",
   "metadata": {},
   "source": [
    "+ Import numpy as np: Imports the NumPy library and gives it an alias np for easier reference in the code.\n",
    "\n",
    "+ Import matplotlib.pyplot as plt: Imports the pyplot module from the Matplotlib library and gives it an alias plt for easier reference in the code.\n",
    "\n",
    "+ Import seaborn: Imports the Seaborn library for statistical visualization.\n",
    "\n",
    "+ From scipy.stats import shapiro, ttest_ind: Imports the shapiro() and ttest_ind() functions from the scipy.stats module.\n",
    "\n",
    "+ shapiro(insurance['charges']): This code line runs the Shapiro-Wilk test for normality on the insurance charges data using the shapiro() function. The insurance['charges'] part of the code refers to the charges column in the insurance data frame or data set. The output of the shapiro() function will be a tuple containing the test statistic and the p-value of the test.\n",
    "\n",
    "+ shapiro(insurance['bmi']): This code line runs the Shapiro-Wilk test for normality on the insurance charges data using the shapiro() function. The insurance['bmi'] part of the code refers to the charges column in the insurance data frame or data set. The output of the shapiro() function will be a tuple containing the test statistic and the p-value of the test.\n",
    "\n",
    "+ shapiro(insurance['age']): This code line runs the Shapiro-Wilk test for normality on the insurance charges data using the shapiro() function. The insurance['age'] part of the code refers to the charges column in the insurance data frame or data set. The output of the shapiro() function will be a tuple containing the test statistic and the p-value of the test.\n",
    "\n",
    "+ shapiro(insurance['children']): This code line runs the Shapiro-Wilk test for normality on the insurance charges data using the shapiro() function. The insurance['children'] part of the code refers to the charges column in the insurance data frame or data set. The output of the shapiro() function will be a tuple containing the test statistic and the p-value of the test."
   ]
  },
  {
   "cell_type": "code",
   "execution_count": 3,
   "id": "c66559a3-b7ed-41b8-bc88-5097ded6beeb",
   "metadata": {},
   "outputs": [
    {
     "data": {
      "text/plain": [
       "ShapiroResult(statistic=0.814687967300415, pvalue=1.150477698013898e-36)"
      ]
     },
     "execution_count": 3,
     "metadata": {},
     "output_type": "execute_result"
    }
   ],
   "source": [
    "import numpy as np\n",
    "import matplotlib.pyplot as plt\n",
    "import seaborn \n",
    "from scipy.stats import shapiro, ttest_ind\n",
    "\n",
    "shapiro(insurance['charges'])\n"
   ]
  },
  {
   "cell_type": "code",
   "execution_count": 4,
   "id": "f80b859b-b2f7-47df-a8cf-4dddf38d7c05",
   "metadata": {},
   "outputs": [
    {
     "data": {
      "text/plain": [
       "ShapiroResult(statistic=0.9938876032829285, pvalue=2.609841976664029e-05)"
      ]
     },
     "execution_count": 4,
     "metadata": {},
     "output_type": "execute_result"
    }
   ],
   "source": [
    "shapiro(insurance['bmi'])"
   ]
  },
  {
   "cell_type": "code",
   "execution_count": 5,
   "id": "1b3615a3-f872-4190-b06d-6ee59a71684c",
   "metadata": {},
   "outputs": [
    {
     "data": {
      "text/plain": [
       "ShapiroResult(statistic=0.9446991682052612, pvalue=5.687479624670986e-22)"
      ]
     },
     "execution_count": 5,
     "metadata": {},
     "output_type": "execute_result"
    }
   ],
   "source": [
    "shapiro(insurance['age'])"
   ]
  },
  {
   "cell_type": "code",
   "execution_count": 6,
   "id": "fdd855ee-d1a7-4cff-9137-faa8a00273c7",
   "metadata": {},
   "outputs": [
    {
     "data": {
      "text/plain": [
       "ShapiroResult(statistic=0.8231803774833679, pvalue=5.066361280494088e-36)"
      ]
     },
     "execution_count": 6,
     "metadata": {},
     "output_type": "execute_result"
    }
   ],
   "source": [
    "shapiro(insurance['children'])"
   ]
  },
  {
   "cell_type": "code",
   "execution_count": 7,
   "id": "1555cc34-1ef2-4f69-8ada-e39adaac9bd0",
   "metadata": {},
   "outputs": [
    {
     "data": {
      "image/png": "[encoded data removed]",
      "text/plain": [
       "<Figure size 360x360 with 1 Axes>"
      ]
     },
     "metadata": {
      "needs_background": "light"
     },
     "output_type": "display_data"
    }
   ],
   "source": [
    "seaborn.displot(data=insurance, x='bmi')\n",
    "plt.show()"
   ]
  },
  {
   "cell_type": "code",
   "execution_count": 8,
   "id": "c0abde08-c8f2-41fe-9822-5203a98cf964",
   "metadata": {},
   "outputs": [
    {
     "data": {
      "image/png": "[encoded data removed]",
      "text/plain": [
       "<Figure size 360x360 with 1 Axes>"
      ]
     },
     "metadata": {
      "needs_background": "light"
     },
     "output_type": "display_data"
    }
   ],
   "source": [
    "seaborn.displot(data=insurance, x='age')\n",
    "plt.show()"
   ]
  },
  {
   "cell_type": "code",
   "execution_count": 9,
   "id": "33cc73c2-f5f3-44ab-98ef-556273fad4cb",
   "metadata": {},
   "outputs": [
    {
     "data": {
      "image/png": "[encoded data removed]",
      "text/plain": [
       "<Figure size 360x360 with 1 Axes>"
      ]
     },
     "metadata": {
      "needs_background": "light"
     },
     "output_type": "display_data"
    }
   ],
   "source": [
    "seaborn.displot(data=insurance, x='charges')\n",
    "plt.show()"
   ]
  },
  {
   "cell_type": "code",
   "execution_count": 10,
   "id": "accf9905-a79a-4e2e-bef8-1cf88709deca",
   "metadata": {},
   "outputs": [
    {
     "data": {
      "image/png": "[encoded data removed]",
      "text/plain": [
       "<Figure size 360x360 with 1 Axes>"
      ]
     },
     "metadata": {
      "needs_background": "light"
     },
     "output_type": "display_data"
    }
   ],
   "source": [
    "seaborn.displot(data=insurance, x='children')\n",
    "plt.show()"
   ]
  },
  {
   "cell_type": "markdown",
   "id": "db53aee9-bfc6-4b05-869c-6cbb75d7bc44",
   "metadata": {},
   "source": [
    "+ Report: The p value is higher for the age with pvalue=5.687479624670986e-22. but the bmi is normally distributed among the numerical features "
   ]
  },
  {
   "cell_type": "markdown",
   "id": "1f49c090-7154-48b2-aa42-f5cd898e4ec4",
   "metadata": {},
   "source": [
    "***Steps to carryout:***\n",
    "+ mean = insurance.groupby('region')['charges'].mean(): This code uses the groupby() method of a Pandas DataFrame to group the data by the region column. It then selects the charges column and calculates the mean value for each group. The resulting object is a new Pandas Series object named mean, where each region name is the index and the mean charges for that region are the values.\n",
    "\n",
    "+ print(mean): This line prints the mean Series object to the console. The output will show the mean charges for each region, with the region name as the index and the mean charges as the value.\n",
    "\n",
    "+ The groupby() method is a powerful tool for grouping and aggregating data in Pandas. It allows you to group data by one or more columns, and then apply various aggregate functions, such as mean(), sum(), count(), etc., to each group. In this case, we are grouping the insurance data by region and calculating the mean charges for each region. The resulting mean Series provides us with a quick way to compare the average charges across different regions.\n",
    "\n",
    "+ plt.figure(figsize=(8,6)): This line creates a new figure with a size of 8 inches by 6 inches. The figsize parameter is a tuple specifying the width and height of the figure in inches.\n",
    "\n",
    "+ seaborn.boxplot(x='region', y='charges', data=insurance): This line creates a box plot using the Seaborn library. The x parameter specifies the categorical variable to group by (region in this case), and the y parameter specifies the numeric variable to plot (charges in this case). The data parameter specifies the DataFrame to use for the plot (insurance in this case).\n",
    "\n",
    "+ plt.title('Insurance Costs by Region'): This line adds a title to the plot.\n",
    "\n",
    "+ plt.show(): This line displays the plot in the output window.\n",
    "\n",
    "+ The box plot is a useful way to visualize the distribution of a numeric variable across different categories. "
   ]
  },
  {
   "cell_type": "code",
   "execution_count": 13,
   "id": "8f110682-3de8-4db0-a4aa-e73929b2d3e0",
   "metadata": {},
   "outputs": [
    {
     "name": "stdout",
     "output_type": "stream",
     "text": [
      "region\n",
      "northeast    13406.384516\n",
      "northwest    12417.575374\n",
      "southeast    14735.411438\n",
      "southwest    12346.937377\n",
      "Name: charges, dtype: float64\n"
     ]
    }
   ],
   "source": [
    "mean = insurance.groupby('region')['charges'].mean()\n",
    "print(mean)"
   ]
  },
  {
   "cell_type": "code",
   "execution_count": 19,
   "id": "470e6e59-559b-4083-8a43-65ea7b9cc925",
   "metadata": {},
   "outputs": [
    {
     "data": {
      "image/png": "[encoded data removed]",
      "text/plain": [
       "<Figure size 576x432 with 1 Axes>"
      ]
     },
     "metadata": {
      "needs_background": "light"
     },
     "output_type": "display_data"
    }
   ],
   "source": [
    "plt.figure(figsize=(8,6))\n",
    "seaborn.boxplot(x='region', y='charges', data=insurance)\n",
    "plt.title('Insurance Costs by Region')\n",
    "plt.show()"
   ]
  },
  {
   "cell_type": "markdown",
   "id": "486f436a-f440-4d53-bc58-d89e61240bd7",
   "metadata": {},
   "source": [
    "+ Report: This will output the average insurance cost (charges) for each region. The region with the highest average cost (southeast) is likely the least healthy region, as higher costs may be indicative of a higher prevalence of health issues. \n",
    "\n",
    "+ The plot allows us to compare the distribution of charges across different regions and identify any differences or similarities in the data"
   ]
  },
  {
   "cell_type": "markdown",
   "id": "2799f48c-2fcc-42f5-9936-7468f985130e",
   "metadata": {},
   "source": [
    "***Steps to carryout:***\n",
    "\n",
    "+ plt.figure(figsize=(8,6)): This line creates a new figure with a size of 8 inches by 6 inches. The figsize parameter is a tuple specifying the width and height of the figure in inches.\n",
    "\n",
    "+ seaborn.scatterplot(x='bmi', y='charges', data=insurance): This line creates a scatter plot using the Seaborn library. The x parameter specifies the predictor variable to plot on the x-axis (bmi in this case), and the y parameter specifies the outcome variable to plot on the y-axis (charges in this case). The data parameter specifies the DataFrame to use for the plot (insurance in this case).\n",
    "\n",
    "+ plt.title('Charges vs. BMI'): This line adds a title to the plot.\n",
    "\n",
    "+ plt.show(): This line displays the plot in the output window.\n",
    "\n",
    "+ The same steps are repeated for the second scatter plot with the variable age replacing bmi."
   ]
  },
  {
   "cell_type": "code",
   "execution_count": 20,
   "id": "ed8b143b-e7d5-4761-bed2-c78a354ce33a",
   "metadata": {},
   "outputs": [
    {
     "data": {
      "image/png": "[encoded data removed]",
      "text/plain": [
       "<Figure size 576x432 with 1 Axes>"
      ]
     },
     "metadata": {
      "needs_background": "light"
     },
     "output_type": "display_data"
    },
    {
     "data": {
      "image/png": "[encoded data removed]",
      "text/plain": [
       "<Figure size 576x432 with 1 Axes>"
      ]
     },
     "metadata": {
      "needs_background": "light"
     },
     "output_type": "display_data"
    }
   ],
   "source": [
    "plt.figure(figsize=(8,6))\n",
    "seaborn.scatterplot(x='bmi', y='charges', data=insurance)\n",
    "plt.title('Charges vs. BMI')\n",
    "plt.show()\n",
    "plt.figure(figsize=(8,6))\n",
    "seaborn.scatterplot(x='age', y='charges', data=insurance)\n",
    "plt.title('Charges vs. Age')\n",
    "plt.show()"
   ]
  },
  {
   "cell_type": "markdown",
   "id": "7d51e784-1da1-41b7-a8bb-de50ee90da26",
   "metadata": {},
   "source": [
    "+ Report: However, upon closer inspection, it appears that the scatterplot of charges vs. bmi has a stronger linear relationship than the scatterplot of charges vs. age. This is because the points in the scatterplot of charges vs. bmi are more tightly clustered around a linear trend, while the points in the scatterplot of charges vs. age are more spread out and less tightly clustered."
   ]
  },
  {
   "cell_type": "markdown",
   "id": "781420b4-5710-48cf-ad15-f64e4a9b534a",
   "metadata": {},
   "source": [
    "***Steps to carryout:***\n",
    "\n",
    "+ We start by selecting the feature \"bmi\" as the independent variable X and \"charges\" as the dependent variable y.\n",
    "\n",
    "+ We then create an instance of the LinearRegression class from the scikit-learn library.\n",
    "\n",
    "+ We fit the model to the data by calling the fit() method of the model instance and passing X and y as arguments.\n",
    "\n",
    "+ We use the coef_ and intercept_ attributes of the model instance to retrieve the slope and intercept of the linear regression line.\n",
    "\n",
    "+ We define a function called guess() that takes the model and a value for X as input and returns a predicted value for y.\n",
    "\n",
    "+ We apply the guess() function to the entire \"bmi\" column of the insurance dataset to create a new column called \"PL_PW_model\" that contains the predicted values for \"charges\" based on \"bmi\".\n",
    "\n",
    "+ We visualize the relationship between \"bmi\" and \"PL_PW_model\" using a scatter plot.\n",
    "\n",
    "+ We also visualize the relationship between \"bmi\" and \"charges\" using another scatter plot to compare the linearity of the two relationships.\n",
    "\n",
    "+ The same steps are repeated for the second model with the variable age replacing bmi.\n"
   ]
  },
  {
   "cell_type": "code",
   "execution_count": 28,
   "id": "11d8e921-87f8-43de-8617-fce98e09ee6a",
   "metadata": {},
   "outputs": [
    {
     "data": {
      "text/plain": [
       "LinearRegression()"
      ]
     },
     "execution_count": 28,
     "metadata": {},
     "output_type": "execute_result"
    }
   ],
   "source": [
    "X = insurance[['bmi']]\n",
    "y = insurance['charges']\n",
    "from sklearn.linear_model import LinearRegression\n",
    "model = LinearRegression()\n",
    "model.fit(X,y)"
   ]
  },
  {
   "cell_type": "code",
   "execution_count": 29,
   "id": "de99b78e-bf37-4549-b4bc-dd05038aa7f5",
   "metadata": {},
   "outputs": [
    {
     "data": {
      "text/plain": [
       "0.03933913991786253"
      ]
     },
     "execution_count": 29,
     "metadata": {},
     "output_type": "execute_result"
    }
   ],
   "source": [
    "model.score(X,y)"
   ]
  },
  {
   "cell_type": "code",
   "execution_count": 30,
   "id": "e02afa29-f8b5-44a0-a66c-9d6a4a4fe81f",
   "metadata": {},
   "outputs": [
    {
     "data": {
      "text/plain": [
       "(array([393.8730308]), 1192.9372089611516)"
      ]
     },
     "execution_count": 30,
     "metadata": {},
     "output_type": "execute_result"
    }
   ],
   "source": [
    "model.coef_, model.intercept_"
   ]
  },
  {
   "cell_type": "code",
   "execution_count": 31,
   "id": "7b0994b1-072a-4bb4-ab91-133b411bb23e",
   "metadata": {},
   "outputs": [],
   "source": [
    "def guess(model, pw):\n",
    "    return model.coef_ * pw + model.intercept_"
   ]
  },
  {
   "cell_type": "code",
   "execution_count": 32,
   "id": "450e72ab-a069-4fd6-bd88-bf7e5f4ad4f5",
   "metadata": {},
   "outputs": [
    {
     "data": {
      "text/plain": [
       "array([1192.93720896])"
      ]
     },
     "execution_count": 32,
     "metadata": {},
     "output_type": "execute_result"
    }
   ],
   "source": [
    "guess(model, 0)"
   ]
  },
  {
   "cell_type": "code",
   "execution_count": 33,
   "id": "f4881bee-c0b1-4861-9b56-5ff6b472b496",
   "metadata": {},
   "outputs": [
    {
     "data": {
      "text/html": [
       "<div>\n",
       "<style scoped>\n",
       "    .dataframe tbody tr th:only-of-type {\n",
       "        vertical-align: middle;\n",
       "    }\n",
       "\n",
       "    .dataframe tbody tr th {\n",
       "        vertical-align: top;\n",
       "    }\n",
       "\n",
       "    .dataframe thead th {\n",
       "        text-align: right;\n",
       "    }\n",
       "</style>\n",
       "<table border=\"1\" class=\"dataframe\">\n",
       "  <thead>\n",
       "    <tr style=\"text-align: right;\">\n",
       "      <th></th>\n",
       "      <th>age</th>\n",
       "      <th>sex</th>\n",
       "      <th>bmi</th>\n",
       "      <th>children</th>\n",
       "      <th>smoker</th>\n",
       "      <th>region</th>\n",
       "      <th>charges</th>\n",
       "      <th>PL_PW_model</th>\n",
       "    </tr>\n",
       "  </thead>\n",
       "  <tbody>\n",
       "    <tr>\n",
       "      <th>1001</th>\n",
       "      <td>24</td>\n",
       "      <td>male</td>\n",
       "      <td>32.70</td>\n",
       "      <td>0</td>\n",
       "      <td>yes</td>\n",
       "      <td>southwest</td>\n",
       "      <td>34472.8410</td>\n",
       "      <td>14072.585316</td>\n",
       "    </tr>\n",
       "    <tr>\n",
       "      <th>931</th>\n",
       "      <td>39</td>\n",
       "      <td>female</td>\n",
       "      <td>32.50</td>\n",
       "      <td>1</td>\n",
       "      <td>no</td>\n",
       "      <td>southwest</td>\n",
       "      <td>6238.2980</td>\n",
       "      <td>13993.810710</td>\n",
       "    </tr>\n",
       "    <tr>\n",
       "      <th>898</th>\n",
       "      <td>18</td>\n",
       "      <td>female</td>\n",
       "      <td>40.26</td>\n",
       "      <td>0</td>\n",
       "      <td>no</td>\n",
       "      <td>southeast</td>\n",
       "      <td>1634.5734</td>\n",
       "      <td>17050.265429</td>\n",
       "    </tr>\n",
       "    <tr>\n",
       "      <th>350</th>\n",
       "      <td>57</td>\n",
       "      <td>female</td>\n",
       "      <td>23.18</td>\n",
       "      <td>0</td>\n",
       "      <td>no</td>\n",
       "      <td>northwest</td>\n",
       "      <td>11830.6072</td>\n",
       "      <td>10322.914063</td>\n",
       "    </tr>\n",
       "    <tr>\n",
       "      <th>1124</th>\n",
       "      <td>23</td>\n",
       "      <td>female</td>\n",
       "      <td>42.75</td>\n",
       "      <td>1</td>\n",
       "      <td>yes</td>\n",
       "      <td>northeast</td>\n",
       "      <td>40904.1995</td>\n",
       "      <td>18031.009276</td>\n",
       "    </tr>\n",
       "  </tbody>\n",
       "</table>\n",
       "</div>"
      ],
      "text/plain": [
       "      age     sex    bmi  children smoker     region     charges   PL_PW_model\n",
       "1001   24    male  32.70         0    yes  southwest  34472.8410  14072.585316\n",
       "931    39  female  32.50         1     no  southwest   6238.2980  13993.810710\n",
       "898    18  female  40.26         0     no  southeast   1634.5734  17050.265429\n",
       "350    57  female  23.18         0     no  northwest  11830.6072  10322.914063\n",
       "1124   23  female  42.75         1    yes  northeast  40904.1995  18031.009276"
      ]
     },
     "execution_count": 33,
     "metadata": {},
     "output_type": "execute_result"
    }
   ],
   "source": [
    "insurance['PL_PW_model'] = model.coef_ * insurance['bmi'] + model.intercept_\n",
    "insurance.sample(5)"
   ]
  },
  {
   "cell_type": "code",
   "execution_count": 34,
   "id": "595585b9-5d91-4ee3-8148-582a4355d8eb",
   "metadata": {},
   "outputs": [
    {
     "data": {
      "image/png": "[encoded data removed]",
      "text/plain": [
       "<Figure size 360x360 with 1 Axes>"
      ]
     },
     "metadata": {
      "needs_background": "light"
     },
     "output_type": "display_data"
    }
   ],
   "source": [
    "seaborn.relplot(data=insurance, x='bmi', y='PL_PW_model')\n",
    "plt.show()"
   ]
  },
  {
   "cell_type": "code",
   "execution_count": 35,
   "id": "9bf04ee0-2748-46d1-a425-905e553c5c06",
   "metadata": {},
   "outputs": [
    {
     "data": {
      "image/png": "[encoded data removed]",
      "text/plain": [
       "<Figure size 360x360 with 1 Axes>"
      ]
     },
     "metadata": {
      "needs_background": "light"
     },
     "output_type": "display_data"
    }
   ],
   "source": [
    "seaborn.lmplot(data=insurance, x='bmi', y='charges')\n",
    "plt.show()"
   ]
  },
  {
   "cell_type": "code",
   "execution_count": 36,
   "id": "6237006b-cf3e-43fa-b475-3cbed31c61f2",
   "metadata": {},
   "outputs": [
    {
     "data": {
      "text/plain": [
       "LinearRegression()"
      ]
     },
     "execution_count": 36,
     "metadata": {},
     "output_type": "execute_result"
    }
   ],
   "source": [
    "X2 = insurance[['age']]\n",
    "y2 = insurance['charges']\n",
    "\n",
    "model = LinearRegression()\n",
    "model.fit(X2,y2)"
   ]
  },
  {
   "cell_type": "code",
   "execution_count": 37,
   "id": "7b7d82af-aa7a-4f6f-b0cd-9909f2a9801d",
   "metadata": {},
   "outputs": [
    {
     "data": {
      "text/plain": [
       "0.08940589967885804"
      ]
     },
     "execution_count": 37,
     "metadata": {},
     "output_type": "execute_result"
    }
   ],
   "source": [
    "model.score(X2,y2)"
   ]
  },
  {
   "cell_type": "code",
   "execution_count": 38,
   "id": "6b69474d-111e-4af8-adaa-6b13022ba28d",
   "metadata": {},
   "outputs": [
    {
     "data": {
      "text/plain": [
       "(array([257.72261867]), 3165.885006063014)"
      ]
     },
     "execution_count": 38,
     "metadata": {},
     "output_type": "execute_result"
    }
   ],
   "source": [
    "model.coef_, model.intercept_"
   ]
  },
  {
   "cell_type": "code",
   "execution_count": 39,
   "id": "8260c721-9fd4-43ec-8a2b-7bc17e45fd5c",
   "metadata": {},
   "outputs": [],
   "source": [
    "def guess(model, pw):\n",
    "    return model.coef_ * pw + model.intercept_"
   ]
  },
  {
   "cell_type": "code",
   "execution_count": 40,
   "id": "971fd851-5591-4b51-9148-a28ddab2adc4",
   "metadata": {},
   "outputs": [
    {
     "data": {
      "text/plain": [
       "array([3165.88500606])"
      ]
     },
     "execution_count": 40,
     "metadata": {},
     "output_type": "execute_result"
    }
   ],
   "source": [
    "guess(model, 0)"
   ]
  },
  {
   "cell_type": "code",
   "execution_count": 41,
   "id": "7d8373a1-0cd3-45df-9ae3-9afe65fd96ec",
   "metadata": {},
   "outputs": [
    {
     "data": {
      "text/html": [
       "<div>\n",
       "<style scoped>\n",
       "    .dataframe tbody tr th:only-of-type {\n",
       "        vertical-align: middle;\n",
       "    }\n",
       "\n",
       "    .dataframe tbody tr th {\n",
       "        vertical-align: top;\n",
       "    }\n",
       "\n",
       "    .dataframe thead th {\n",
       "        text-align: right;\n",
       "    }\n",
       "</style>\n",
       "<table border=\"1\" class=\"dataframe\">\n",
       "  <thead>\n",
       "    <tr style=\"text-align: right;\">\n",
       "      <th></th>\n",
       "      <th>age</th>\n",
       "      <th>sex</th>\n",
       "      <th>bmi</th>\n",
       "      <th>children</th>\n",
       "      <th>smoker</th>\n",
       "      <th>region</th>\n",
       "      <th>charges</th>\n",
       "      <th>PL_PW_model</th>\n",
       "    </tr>\n",
       "  </thead>\n",
       "  <tbody>\n",
       "    <tr>\n",
       "      <th>1272</th>\n",
       "      <td>43</td>\n",
       "      <td>male</td>\n",
       "      <td>25.52</td>\n",
       "      <td>5</td>\n",
       "      <td>no</td>\n",
       "      <td>southeast</td>\n",
       "      <td>14478.33015</td>\n",
       "      <td>14247.957609</td>\n",
       "    </tr>\n",
       "    <tr>\n",
       "      <th>1000</th>\n",
       "      <td>30</td>\n",
       "      <td>male</td>\n",
       "      <td>22.99</td>\n",
       "      <td>2</td>\n",
       "      <td>yes</td>\n",
       "      <td>northwest</td>\n",
       "      <td>17361.76610</td>\n",
       "      <td>10897.563566</td>\n",
       "    </tr>\n",
       "    <tr>\n",
       "      <th>97</th>\n",
       "      <td>55</td>\n",
       "      <td>male</td>\n",
       "      <td>38.28</td>\n",
       "      <td>0</td>\n",
       "      <td>no</td>\n",
       "      <td>southeast</td>\n",
       "      <td>10226.28420</td>\n",
       "      <td>17340.629033</td>\n",
       "    </tr>\n",
       "    <tr>\n",
       "      <th>1248</th>\n",
       "      <td>18</td>\n",
       "      <td>female</td>\n",
       "      <td>39.82</td>\n",
       "      <td>0</td>\n",
       "      <td>no</td>\n",
       "      <td>southeast</td>\n",
       "      <td>1633.96180</td>\n",
       "      <td>7804.892142</td>\n",
       "    </tr>\n",
       "    <tr>\n",
       "      <th>898</th>\n",
       "      <td>18</td>\n",
       "      <td>female</td>\n",
       "      <td>40.26</td>\n",
       "      <td>0</td>\n",
       "      <td>no</td>\n",
       "      <td>southeast</td>\n",
       "      <td>1634.57340</td>\n",
       "      <td>7804.892142</td>\n",
       "    </tr>\n",
       "  </tbody>\n",
       "</table>\n",
       "</div>"
      ],
      "text/plain": [
       "      age     sex    bmi  children smoker     region      charges  \\\n",
       "1272   43    male  25.52         5     no  southeast  14478.33015   \n",
       "1000   30    male  22.99         2    yes  northwest  17361.76610   \n",
       "97     55    male  38.28         0     no  southeast  10226.28420   \n",
       "1248   18  female  39.82         0     no  southeast   1633.96180   \n",
       "898    18  female  40.26         0     no  southeast   1634.57340   \n",
       "\n",
       "       PL_PW_model  \n",
       "1272  14247.957609  \n",
       "1000  10897.563566  \n",
       "97    17340.629033  \n",
       "1248   7804.892142  \n",
       "898    7804.892142  "
      ]
     },
     "execution_count": 41,
     "metadata": {},
     "output_type": "execute_result"
    }
   ],
   "source": [
    "insurance['PL_PW_model'] = model.coef_ * insurance['age'] + model.intercept_\n",
    "insurance.sample(5)"
   ]
  },
  {
   "cell_type": "code",
   "execution_count": 42,
   "id": "c8d7f7e0-4ea0-462a-8664-7cad74095c90",
   "metadata": {},
   "outputs": [
    {
     "data": {
      "image/png": "[encoded data removed]",
      "text/plain": [
       "<Figure size 360x360 with 1 Axes>"
      ]
     },
     "metadata": {
      "needs_background": "light"
     },
     "output_type": "display_data"
    }
   ],
   "source": [
    "seaborn.relplot(data=insurance, x='age', y='PL_PW_model')\n",
    "plt.show()"
   ]
  },
  {
   "cell_type": "code",
   "execution_count": 43,
   "id": "8744be84-efb1-42c5-8754-14a30e699b3c",
   "metadata": {},
   "outputs": [
    {
     "data": {
      "image/png": "[encoded data removed]",
      "text/plain": [
       "<Figure size 360x360 with 1 Axes>"
      ]
     },
     "metadata": {
      "needs_background": "light"
     },
     "output_type": "display_data"
    }
   ],
   "source": [
    "seaborn.lmplot(data=insurance, x='age', y='charges')\n",
    "plt.show()"
   ]
  },
  {
   "cell_type": "markdown",
   "id": "a196eac4-3247-4218-af88-db6b7b26b981",
   "metadata": {},
   "source": [
    "+ Report: Between bmi and age, bmi feature is more linearly related to charges when using linear models. The lmplot() function from Seaborn is used to create linear regression models for age and bmi related to charges"
   ]
  },
  {
   "cell_type": "markdown",
   "id": "05ffdf74-9124-4988-9788-63486795ecfe",
   "metadata": {},
   "source": [
    "***Steps to carryout:***\n",
    "\n",
    "+ Import necessary modules and libraries including LinearRegression, DecisionTreeRegressor, ShuffleSplit, and DummyRegressor.\n",
    "\n",
    "+ Assign y to the charges column of the insurance DataFrame, and X to all the columns except for charges.\n",
    "\n",
    "+ Convert categorical variables to dummy variables using get_dummies() method of pandas.\n",
    "\n",
    "+ Intiate DecisionTreeRegressor, LinearRegression, and DummyRegressor as model1, model2, and model3, respectively.\n",
    "\n",
    "+ Intiate ShuffleSplit with 100 splits as the cross-validation method cv.\n",
    "\n",
    "+ Calculate cross-validation scores using the cross_validate() method with r2 as the scoring metric for each model and print the mean of the test scores.\n",
    "\n",
    "+ Compare the results to determine the best performing model.\n",
    "\n",
    "+ The r2 metric is used to measure the performance of the regression models. The closer the r2 score is to 1, the better the model is performing.\n"
   ]
  },
  {
   "cell_type": "code",
   "execution_count": 45,
   "id": "a14e7309-3356-41f2-ab48-2051eb491218",
   "metadata": {},
   "outputs": [
    {
     "data": {
      "text/html": [
       "<div>\n",
       "<style scoped>\n",
       "    .dataframe tbody tr th:only-of-type {\n",
       "        vertical-align: middle;\n",
       "    }\n",
       "\n",
       "    .dataframe tbody tr th {\n",
       "        vertical-align: top;\n",
       "    }\n",
       "\n",
       "    .dataframe thead th {\n",
       "        text-align: right;\n",
       "    }\n",
       "</style>\n",
       "<table border=\"1\" class=\"dataframe\">\n",
       "  <thead>\n",
       "    <tr style=\"text-align: right;\">\n",
       "      <th></th>\n",
       "      <th>age</th>\n",
       "      <th>sex</th>\n",
       "      <th>bmi</th>\n",
       "      <th>children</th>\n",
       "      <th>smoker</th>\n",
       "      <th>region</th>\n",
       "      <th>charges</th>\n",
       "    </tr>\n",
       "  </thead>\n",
       "  <tbody>\n",
       "    <tr>\n",
       "      <th>579</th>\n",
       "      <td>25</td>\n",
       "      <td>female</td>\n",
       "      <td>23.465</td>\n",
       "      <td>0</td>\n",
       "      <td>no</td>\n",
       "      <td>northeast</td>\n",
       "      <td>3206.49135</td>\n",
       "    </tr>\n",
       "    <tr>\n",
       "      <th>909</th>\n",
       "      <td>32</td>\n",
       "      <td>female</td>\n",
       "      <td>24.600</td>\n",
       "      <td>0</td>\n",
       "      <td>yes</td>\n",
       "      <td>southwest</td>\n",
       "      <td>17496.30600</td>\n",
       "    </tr>\n",
       "    <tr>\n",
       "      <th>721</th>\n",
       "      <td>53</td>\n",
       "      <td>male</td>\n",
       "      <td>36.600</td>\n",
       "      <td>3</td>\n",
       "      <td>no</td>\n",
       "      <td>southwest</td>\n",
       "      <td>11264.54100</td>\n",
       "    </tr>\n",
       "  </tbody>\n",
       "</table>\n",
       "</div>"
      ],
      "text/plain": [
       "     age     sex     bmi  children smoker     region      charges\n",
       "579   25  female  23.465         0     no  northeast   3206.49135\n",
       "909   32  female  24.600         0    yes  southwest  17496.30600\n",
       "721   53    male  36.600         3     no  southwest  11264.54100"
      ]
     },
     "execution_count": 45,
     "metadata": {},
     "output_type": "execute_result"
    }
   ],
   "source": [
    "import pandas\n",
    "insurance = pandas.read_csv('/Users/yashds/Documents/UofM/SECOND SEM/FDS/Datasets/insurance_costs.csv')\n",
    "insurance.sample(3)"
   ]
  },
  {
   "cell_type": "code",
   "execution_count": 47,
   "id": "774911b0-f5a4-4837-b351-4a3f4e1b37e9",
   "metadata": {},
   "outputs": [
    {
     "data": {
      "text/plain": [
       "0.75"
      ]
     },
     "execution_count": 47,
     "metadata": {},
     "output_type": "execute_result"
    }
   ],
   "source": [
    "from sklearn.linear_model import LinearRegression\n",
    "from sklearn.tree import DecisionTreeRegressor, plot_tree\n",
    "y = insurance['charges']\n",
    "X = insurance.drop(columns=['charges'])\n",
    "X2 = pandas.get_dummies(X)\n",
    "model.fit(X2,y)\n",
    "model.score(X2,y).round(2)"
   ]
  },
  {
   "cell_type": "code",
   "execution_count": 48,
   "id": "df57a58c-d8e4-41ce-a170-d7683401cd32",
   "metadata": {},
   "outputs": [
    {
     "data": {
      "text/html": [
       "<div>\n",
       "<style scoped>\n",
       "    .dataframe tbody tr th:only-of-type {\n",
       "        vertical-align: middle;\n",
       "    }\n",
       "\n",
       "    .dataframe tbody tr th {\n",
       "        vertical-align: top;\n",
       "    }\n",
       "\n",
       "    .dataframe thead th {\n",
       "        text-align: right;\n",
       "    }\n",
       "</style>\n",
       "<table border=\"1\" class=\"dataframe\">\n",
       "  <thead>\n",
       "    <tr style=\"text-align: right;\">\n",
       "      <th></th>\n",
       "      <th>age</th>\n",
       "      <th>bmi</th>\n",
       "      <th>children</th>\n",
       "      <th>sex_female</th>\n",
       "      <th>sex_male</th>\n",
       "      <th>smoker_no</th>\n",
       "      <th>smoker_yes</th>\n",
       "      <th>region_northeast</th>\n",
       "      <th>region_northwest</th>\n",
       "      <th>region_southeast</th>\n",
       "      <th>region_southwest</th>\n",
       "    </tr>\n",
       "  </thead>\n",
       "  <tbody>\n",
       "    <tr>\n",
       "      <th>0</th>\n",
       "      <td>19</td>\n",
       "      <td>27.900</td>\n",
       "      <td>0</td>\n",
       "      <td>1</td>\n",
       "      <td>0</td>\n",
       "      <td>0</td>\n",
       "      <td>1</td>\n",
       "      <td>0</td>\n",
       "      <td>0</td>\n",
       "      <td>0</td>\n",
       "      <td>1</td>\n",
       "    </tr>\n",
       "    <tr>\n",
       "      <th>1</th>\n",
       "      <td>18</td>\n",
       "      <td>33.770</td>\n",
       "      <td>1</td>\n",
       "      <td>0</td>\n",
       "      <td>1</td>\n",
       "      <td>1</td>\n",
       "      <td>0</td>\n",
       "      <td>0</td>\n",
       "      <td>0</td>\n",
       "      <td>1</td>\n",
       "      <td>0</td>\n",
       "    </tr>\n",
       "    <tr>\n",
       "      <th>2</th>\n",
       "      <td>28</td>\n",
       "      <td>33.000</td>\n",
       "      <td>3</td>\n",
       "      <td>0</td>\n",
       "      <td>1</td>\n",
       "      <td>1</td>\n",
       "      <td>0</td>\n",
       "      <td>0</td>\n",
       "      <td>0</td>\n",
       "      <td>1</td>\n",
       "      <td>0</td>\n",
       "    </tr>\n",
       "    <tr>\n",
       "      <th>3</th>\n",
       "      <td>33</td>\n",
       "      <td>22.705</td>\n",
       "      <td>0</td>\n",
       "      <td>0</td>\n",
       "      <td>1</td>\n",
       "      <td>1</td>\n",
       "      <td>0</td>\n",
       "      <td>0</td>\n",
       "      <td>1</td>\n",
       "      <td>0</td>\n",
       "      <td>0</td>\n",
       "    </tr>\n",
       "    <tr>\n",
       "      <th>4</th>\n",
       "      <td>32</td>\n",
       "      <td>28.880</td>\n",
       "      <td>0</td>\n",
       "      <td>0</td>\n",
       "      <td>1</td>\n",
       "      <td>1</td>\n",
       "      <td>0</td>\n",
       "      <td>0</td>\n",
       "      <td>1</td>\n",
       "      <td>0</td>\n",
       "      <td>0</td>\n",
       "    </tr>\n",
       "  </tbody>\n",
       "</table>\n",
       "</div>"
      ],
      "text/plain": [
       "   age     bmi  children  sex_female  sex_male  smoker_no  smoker_yes  \\\n",
       "0   19  27.900         0           1         0          0           1   \n",
       "1   18  33.770         1           0         1          1           0   \n",
       "2   28  33.000         3           0         1          1           0   \n",
       "3   33  22.705         0           0         1          1           0   \n",
       "4   32  28.880         0           0         1          1           0   \n",
       "\n",
       "   region_northeast  region_northwest  region_southeast  region_southwest  \n",
       "0                 0                 0                 0                 1  \n",
       "1                 0                 0                 1                 0  \n",
       "2                 0                 0                 1                 0  \n",
       "3                 0                 1                 0                 0  \n",
       "4                 0                 1                 0                 0  "
      ]
     },
     "execution_count": 48,
     "metadata": {},
     "output_type": "execute_result"
    }
   ],
   "source": [
    "X2.head()"
   ]
  },
  {
   "cell_type": "code",
   "execution_count": 49,
   "id": "c49edeb9-4f7c-49d1-81fa-99609ed07f5a",
   "metadata": {},
   "outputs": [
    {
     "name": "stdout",
     "output_type": "stream",
     "text": [
      "0.69\n",
      "0.75\n",
      "-0.01\n"
     ]
    }
   ],
   "source": [
    "from sklearn.model_selection import cross_validate, ShuffleSplit\n",
    "from sklearn.dummy import DummyRegressor\n",
    "model1 = DecisionTreeRegressor()\n",
    "model2 = LinearRegression()\n",
    "model3 = DummyRegressor(strategy='mean')\n",
    "cv = ShuffleSplit(n_splits=100)\n",
    "result1 = cross_validate(model1, X2, y, cv=cv, scoring='r2')\n",
    "result2 = cross_validate(model2, X2, y, cv=cv, scoring='r2')\n",
    "result3 = cross_validate(model3, X2, y, cv=cv, scoring='r2')\n",
    "\n",
    "print(result1['test_score'].mean().round(2))\n",
    "print(result2['test_score'].mean().round(2))\n",
    "print(result3['test_score'].mean().round(2))"
   ]
  },
  {
   "cell_type": "markdown",
   "id": "88b6525f-b1dd-46d9-bdab-915743a0f631",
   "metadata": {},
   "source": [
    "+ Report: Based on the results of the cross-validation, the  model DecisionTreeRegressor (with an r2 score of 0.7) outperformed both the  model LinearRegression (with an r2 score of 0.74) and the DummyRegressor model (with an r2 score of -0.001). Therefore, r2 score is a good scoring metric for regression models and LinearRegression is the best model for this dataset."
   ]
  },
  {
   "cell_type": "markdown",
   "id": "f8ef4c9a-1c14-4a3e-af61-712b37da2b8a",
   "metadata": {},
   "source": [
    "***Steps to carryout:***\n",
    "\n",
    "+ linear regression model and cross-validating it using a shuffle split.\n",
    "\n",
    "Here are the steps explained:\n",
    "\n",
    "+ Label encoding: the LabelEncoder class is used to convert the categorical variables in X to numerical values. fit_transform() is called on the sex, region, and smoker columns to convert their categories to integers.\n",
    "\n",
    "+ One-hot encoding: the OneHotEncoder class is used to convert the numerical values obtained from label encoding into one-hot encoded features. The toarray() method is used to convert the encoded features to a numpy array, which is then converted to a pandas dataframe.\n",
    "\n",
    "+ pandas.get_dummies(): this function is used to perform one-hot encoding on all categorical variables at once. The columns parameter is used to specify the columns to be encoded.\n",
    "\n",
    "+ Fitting a linear regression model: the LinearRegression class is used to fit a model to the data. The model is fit using the one-hot encoded features X1 and the target variable y.\n",
    "\n",
    "+ Cross-validation: the cross_validate() function is used to perform 100-fold cross-validation on the model using a shuffle split. The scoring metric used is R-squared (scoring='r2'). The mean R-squared score across all folds is printed to the console."
   ]
  },
  {
   "cell_type": "code",
   "execution_count": 51,
   "id": "f84c4bf3-6cb9-49e5-996f-8c09b9e3fe76",
   "metadata": {},
   "outputs": [
    {
     "data": {
      "text/html": [
       "<div>\n",
       "<style scoped>\n",
       "    .dataframe tbody tr th:only-of-type {\n",
       "        vertical-align: middle;\n",
       "    }\n",
       "\n",
       "    .dataframe tbody tr th {\n",
       "        vertical-align: top;\n",
       "    }\n",
       "\n",
       "    .dataframe thead th {\n",
       "        text-align: right;\n",
       "    }\n",
       "</style>\n",
       "<table border=\"1\" class=\"dataframe\">\n",
       "  <thead>\n",
       "    <tr style=\"text-align: right;\">\n",
       "      <th></th>\n",
       "      <th>age</th>\n",
       "      <th>sex</th>\n",
       "      <th>bmi</th>\n",
       "      <th>children</th>\n",
       "      <th>smoker</th>\n",
       "      <th>region</th>\n",
       "      <th>charges</th>\n",
       "    </tr>\n",
       "  </thead>\n",
       "  <tbody>\n",
       "    <tr>\n",
       "      <th>0</th>\n",
       "      <td>19</td>\n",
       "      <td>female</td>\n",
       "      <td>27.900</td>\n",
       "      <td>0</td>\n",
       "      <td>yes</td>\n",
       "      <td>southwest</td>\n",
       "      <td>16884.92400</td>\n",
       "    </tr>\n",
       "    <tr>\n",
       "      <th>1</th>\n",
       "      <td>18</td>\n",
       "      <td>male</td>\n",
       "      <td>33.770</td>\n",
       "      <td>1</td>\n",
       "      <td>no</td>\n",
       "      <td>southeast</td>\n",
       "      <td>1725.55230</td>\n",
       "    </tr>\n",
       "    <tr>\n",
       "      <th>2</th>\n",
       "      <td>28</td>\n",
       "      <td>male</td>\n",
       "      <td>33.000</td>\n",
       "      <td>3</td>\n",
       "      <td>no</td>\n",
       "      <td>southeast</td>\n",
       "      <td>4449.46200</td>\n",
       "    </tr>\n",
       "    <tr>\n",
       "      <th>3</th>\n",
       "      <td>33</td>\n",
       "      <td>male</td>\n",
       "      <td>22.705</td>\n",
       "      <td>0</td>\n",
       "      <td>no</td>\n",
       "      <td>northwest</td>\n",
       "      <td>21984.47061</td>\n",
       "    </tr>\n",
       "    <tr>\n",
       "      <th>4</th>\n",
       "      <td>32</td>\n",
       "      <td>male</td>\n",
       "      <td>28.880</td>\n",
       "      <td>0</td>\n",
       "      <td>no</td>\n",
       "      <td>northwest</td>\n",
       "      <td>3866.85520</td>\n",
       "    </tr>\n",
       "  </tbody>\n",
       "</table>\n",
       "</div>"
      ],
      "text/plain": [
       "   age     sex     bmi  children smoker     region      charges\n",
       "0   19  female  27.900         0    yes  southwest  16884.92400\n",
       "1   18    male  33.770         1     no  southeast   1725.55230\n",
       "2   28    male  33.000         3     no  southeast   4449.46200\n",
       "3   33    male  22.705         0     no  northwest  21984.47061\n",
       "4   32    male  28.880         0     no  northwest   3866.85520"
      ]
     },
     "execution_count": 51,
     "metadata": {},
     "output_type": "execute_result"
    }
   ],
   "source": [
    "insurance.head()"
   ]
  },
  {
   "cell_type": "code",
   "execution_count": 52,
   "id": "9e6afdc5-a900-4c10-9547-12a6de048d6b",
   "metadata": {},
   "outputs": [
    {
     "data": {
      "text/html": [
       "<div>\n",
       "<style scoped>\n",
       "    .dataframe tbody tr th:only-of-type {\n",
       "        vertical-align: middle;\n",
       "    }\n",
       "\n",
       "    .dataframe tbody tr th {\n",
       "        vertical-align: top;\n",
       "    }\n",
       "\n",
       "    .dataframe thead th {\n",
       "        text-align: right;\n",
       "    }\n",
       "</style>\n",
       "<table border=\"1\" class=\"dataframe\">\n",
       "  <thead>\n",
       "    <tr style=\"text-align: right;\">\n",
       "      <th></th>\n",
       "      <th>bmi</th>\n",
       "      <th>age</th>\n",
       "      <th>sex</th>\n",
       "      <th>children</th>\n",
       "      <th>smoker</th>\n",
       "      <th>region</th>\n",
       "    </tr>\n",
       "  </thead>\n",
       "  <tbody>\n",
       "    <tr>\n",
       "      <th>287</th>\n",
       "      <td>26.22</td>\n",
       "      <td>63</td>\n",
       "      <td>female</td>\n",
       "      <td>0</td>\n",
       "      <td>no</td>\n",
       "      <td>northwest</td>\n",
       "    </tr>\n",
       "    <tr>\n",
       "      <th>193</th>\n",
       "      <td>26.60</td>\n",
       "      <td>56</td>\n",
       "      <td>female</td>\n",
       "      <td>1</td>\n",
       "      <td>no</td>\n",
       "      <td>northwest</td>\n",
       "    </tr>\n",
       "    <tr>\n",
       "      <th>883</th>\n",
       "      <td>37.05</td>\n",
       "      <td>51</td>\n",
       "      <td>female</td>\n",
       "      <td>3</td>\n",
       "      <td>yes</td>\n",
       "      <td>northeast</td>\n",
       "    </tr>\n",
       "  </tbody>\n",
       "</table>\n",
       "</div>"
      ],
      "text/plain": [
       "       bmi  age     sex  children smoker     region\n",
       "287  26.22   63  female         0     no  northwest\n",
       "193  26.60   56  female         1     no  northwest\n",
       "883  37.05   51  female         3    yes  northeast"
      ]
     },
     "execution_count": 52,
     "metadata": {},
     "output_type": "execute_result"
    }
   ],
   "source": [
    "X = insurance[['bmi', 'age', 'sex', 'children', 'smoker','region' ]].copy()\n",
    "y = insurance['charges']\n",
    "X.sample(3)"
   ]
  },
  {
   "cell_type": "code",
   "execution_count": 53,
   "id": "ba6fa281-c46a-47c4-b8ed-9171da883eab",
   "metadata": {},
   "outputs": [
    {
     "data": {
      "text/plain": [
       "bmi         float64\n",
       "age           int64\n",
       "sex          object\n",
       "children      int64\n",
       "smoker       object\n",
       "region       object\n",
       "dtype: object"
      ]
     },
     "execution_count": 53,
     "metadata": {},
     "output_type": "execute_result"
    }
   ],
   "source": [
    "X.dtypes"
   ]
  },
  {
   "cell_type": "code",
   "execution_count": 54,
   "id": "acae616b-5028-4732-8a8e-aac3c4f1b5b1",
   "metadata": {},
   "outputs": [
    {
     "data": {
      "text/plain": [
       "male      676\n",
       "female    662\n",
       "Name: sex, dtype: int64"
      ]
     },
     "execution_count": 54,
     "metadata": {},
     "output_type": "execute_result"
    }
   ],
   "source": [
    "X['sex'].value_counts()"
   ]
  },
  {
   "cell_type": "code",
   "execution_count": 55,
   "id": "b48ad3c1-07a4-4010-8308-4cb8b559b2c1",
   "metadata": {},
   "outputs": [
    {
     "data": {
      "text/plain": [
       "no     1064\n",
       "yes     274\n",
       "Name: smoker, dtype: int64"
      ]
     },
     "execution_count": 55,
     "metadata": {},
     "output_type": "execute_result"
    }
   ],
   "source": [
    "X['smoker'].value_counts()"
   ]
  },
  {
   "cell_type": "code",
   "execution_count": 56,
   "id": "a5163376-1b62-4667-b5c2-64f3070fcf69",
   "metadata": {},
   "outputs": [
    {
     "data": {
      "text/plain": [
       "southeast    364\n",
       "southwest    325\n",
       "northwest    325\n",
       "northeast    324\n",
       "Name: region, dtype: int64"
      ]
     },
     "execution_count": 56,
     "metadata": {},
     "output_type": "execute_result"
    }
   ],
   "source": [
    "X['region'].value_counts()"
   ]
  },
  {
   "cell_type": "code",
   "execution_count": 57,
   "id": "4ec277b1-6981-4e5d-b844-cc1777e057ef",
   "metadata": {},
   "outputs": [
    {
     "data": {
      "text/plain": [
       "array([0, 1, 1, ..., 0, 0, 0])"
      ]
     },
     "execution_count": 57,
     "metadata": {},
     "output_type": "execute_result"
    }
   ],
   "source": [
    "from sklearn.preprocessing import LabelEncoder\n",
    "encoder = LabelEncoder()\n",
    "encoder.fit_transform(X['sex'])\n"
   ]
  },
  {
   "cell_type": "code",
   "execution_count": 58,
   "id": "b056ce2c-2a37-4923-aec7-3887d7a9c36c",
   "metadata": {},
   "outputs": [
    {
     "data": {
      "text/plain": [
       "array([3, 2, 2, ..., 2, 3, 1])"
      ]
     },
     "execution_count": 58,
     "metadata": {},
     "output_type": "execute_result"
    }
   ],
   "source": [
    "encoder.fit_transform(X['region'])"
   ]
  },
  {
   "cell_type": "code",
   "execution_count": 59,
   "id": "cdef7717-4360-46dc-a368-66b1104495cc",
   "metadata": {},
   "outputs": [
    {
     "data": {
      "text/plain": [
       "array([1, 0, 0, ..., 0, 0, 1])"
      ]
     },
     "execution_count": 59,
     "metadata": {},
     "output_type": "execute_result"
    }
   ],
   "source": [
    "encoder.fit_transform(X['smoker'])"
   ]
  },
  {
   "cell_type": "code",
   "execution_count": 60,
   "id": "b8228fe2-a213-4e25-9ae6-f6e05f852162",
   "metadata": {},
   "outputs": [
    {
     "data": {
      "text/html": [
       "<div>\n",
       "<style scoped>\n",
       "    .dataframe tbody tr th:only-of-type {\n",
       "        vertical-align: middle;\n",
       "    }\n",
       "\n",
       "    .dataframe tbody tr th {\n",
       "        vertical-align: top;\n",
       "    }\n",
       "\n",
       "    .dataframe thead th {\n",
       "        text-align: right;\n",
       "    }\n",
       "</style>\n",
       "<table border=\"1\" class=\"dataframe\">\n",
       "  <thead>\n",
       "    <tr style=\"text-align: right;\">\n",
       "      <th></th>\n",
       "      <th>0</th>\n",
       "      <th>1</th>\n",
       "    </tr>\n",
       "  </thead>\n",
       "  <tbody>\n",
       "    <tr>\n",
       "      <th>0</th>\n",
       "      <td>1.0</td>\n",
       "      <td>0.0</td>\n",
       "    </tr>\n",
       "    <tr>\n",
       "      <th>1</th>\n",
       "      <td>0.0</td>\n",
       "      <td>1.0</td>\n",
       "    </tr>\n",
       "    <tr>\n",
       "      <th>2</th>\n",
       "      <td>0.0</td>\n",
       "      <td>1.0</td>\n",
       "    </tr>\n",
       "    <tr>\n",
       "      <th>3</th>\n",
       "      <td>0.0</td>\n",
       "      <td>1.0</td>\n",
       "    </tr>\n",
       "    <tr>\n",
       "      <th>4</th>\n",
       "      <td>0.0</td>\n",
       "      <td>1.0</td>\n",
       "    </tr>\n",
       "  </tbody>\n",
       "</table>\n",
       "</div>"
      ],
      "text/plain": [
       "     0    1\n",
       "0  1.0  0.0\n",
       "1  0.0  1.0\n",
       "2  0.0  1.0\n",
       "3  0.0  1.0\n",
       "4  0.0  1.0"
      ]
     },
     "execution_count": 60,
     "metadata": {},
     "output_type": "execute_result"
    }
   ],
   "source": [
    "from sklearn.preprocessing import OneHotEncoder\n",
    "encoder = OneHotEncoder()\n",
    "pandas.DataFrame(encoder.fit_transform(X[['sex']]).toarray())[0:5]"
   ]
  },
  {
   "cell_type": "code",
   "execution_count": 61,
   "id": "187c2c09-6276-4beb-9143-aa663eb0917b",
   "metadata": {},
   "outputs": [
    {
     "data": {
      "text/html": [
       "<div>\n",
       "<style scoped>\n",
       "    .dataframe tbody tr th:only-of-type {\n",
       "        vertical-align: middle;\n",
       "    }\n",
       "\n",
       "    .dataframe tbody tr th {\n",
       "        vertical-align: top;\n",
       "    }\n",
       "\n",
       "    .dataframe thead th {\n",
       "        text-align: right;\n",
       "    }\n",
       "</style>\n",
       "<table border=\"1\" class=\"dataframe\">\n",
       "  <thead>\n",
       "    <tr style=\"text-align: right;\">\n",
       "      <th></th>\n",
       "      <th>0</th>\n",
       "      <th>1</th>\n",
       "    </tr>\n",
       "  </thead>\n",
       "  <tbody>\n",
       "    <tr>\n",
       "      <th>0</th>\n",
       "      <td>0.0</td>\n",
       "      <td>1.0</td>\n",
       "    </tr>\n",
       "    <tr>\n",
       "      <th>1</th>\n",
       "      <td>1.0</td>\n",
       "      <td>0.0</td>\n",
       "    </tr>\n",
       "    <tr>\n",
       "      <th>2</th>\n",
       "      <td>1.0</td>\n",
       "      <td>0.0</td>\n",
       "    </tr>\n",
       "    <tr>\n",
       "      <th>3</th>\n",
       "      <td>1.0</td>\n",
       "      <td>0.0</td>\n",
       "    </tr>\n",
       "    <tr>\n",
       "      <th>4</th>\n",
       "      <td>1.0</td>\n",
       "      <td>0.0</td>\n",
       "    </tr>\n",
       "  </tbody>\n",
       "</table>\n",
       "</div>"
      ],
      "text/plain": [
       "     0    1\n",
       "0  0.0  1.0\n",
       "1  1.0  0.0\n",
       "2  1.0  0.0\n",
       "3  1.0  0.0\n",
       "4  1.0  0.0"
      ]
     },
     "execution_count": 61,
     "metadata": {},
     "output_type": "execute_result"
    }
   ],
   "source": [
    "pandas.DataFrame(encoder.fit_transform(X[['smoker']]).toarray())[0:5]"
   ]
  },
  {
   "cell_type": "code",
   "execution_count": 62,
   "id": "b445affb-b548-4c09-92c2-a8b43c7311f5",
   "metadata": {},
   "outputs": [
    {
     "data": {
      "text/html": [
       "<div>\n",
       "<style scoped>\n",
       "    .dataframe tbody tr th:only-of-type {\n",
       "        vertical-align: middle;\n",
       "    }\n",
       "\n",
       "    .dataframe tbody tr th {\n",
       "        vertical-align: top;\n",
       "    }\n",
       "\n",
       "    .dataframe thead th {\n",
       "        text-align: right;\n",
       "    }\n",
       "</style>\n",
       "<table border=\"1\" class=\"dataframe\">\n",
       "  <thead>\n",
       "    <tr style=\"text-align: right;\">\n",
       "      <th></th>\n",
       "      <th>0</th>\n",
       "      <th>1</th>\n",
       "      <th>2</th>\n",
       "      <th>3</th>\n",
       "    </tr>\n",
       "  </thead>\n",
       "  <tbody>\n",
       "    <tr>\n",
       "      <th>0</th>\n",
       "      <td>0.0</td>\n",
       "      <td>0.0</td>\n",
       "      <td>0.0</td>\n",
       "      <td>1.0</td>\n",
       "    </tr>\n",
       "    <tr>\n",
       "      <th>1</th>\n",
       "      <td>0.0</td>\n",
       "      <td>0.0</td>\n",
       "      <td>1.0</td>\n",
       "      <td>0.0</td>\n",
       "    </tr>\n",
       "    <tr>\n",
       "      <th>2</th>\n",
       "      <td>0.0</td>\n",
       "      <td>0.0</td>\n",
       "      <td>1.0</td>\n",
       "      <td>0.0</td>\n",
       "    </tr>\n",
       "    <tr>\n",
       "      <th>3</th>\n",
       "      <td>0.0</td>\n",
       "      <td>1.0</td>\n",
       "      <td>0.0</td>\n",
       "      <td>0.0</td>\n",
       "    </tr>\n",
       "    <tr>\n",
       "      <th>4</th>\n",
       "      <td>0.0</td>\n",
       "      <td>1.0</td>\n",
       "      <td>0.0</td>\n",
       "      <td>0.0</td>\n",
       "    </tr>\n",
       "  </tbody>\n",
       "</table>\n",
       "</div>"
      ],
      "text/plain": [
       "     0    1    2    3\n",
       "0  0.0  0.0  0.0  1.0\n",
       "1  0.0  0.0  1.0  0.0\n",
       "2  0.0  0.0  1.0  0.0\n",
       "3  0.0  1.0  0.0  0.0\n",
       "4  0.0  1.0  0.0  0.0"
      ]
     },
     "execution_count": 62,
     "metadata": {},
     "output_type": "execute_result"
    }
   ],
   "source": [
    "pandas.DataFrame(encoder.fit_transform(X[['region']]).toarray())[0:5]"
   ]
  },
  {
   "cell_type": "code",
   "execution_count": 63,
   "id": "fc574cff-6a30-4775-9949-f42b02801fbe",
   "metadata": {},
   "outputs": [
    {
     "data": {
      "text/html": [
       "<div>\n",
       "<style scoped>\n",
       "    .dataframe tbody tr th:only-of-type {\n",
       "        vertical-align: middle;\n",
       "    }\n",
       "\n",
       "    .dataframe tbody tr th {\n",
       "        vertical-align: top;\n",
       "    }\n",
       "\n",
       "    .dataframe thead th {\n",
       "        text-align: right;\n",
       "    }\n",
       "</style>\n",
       "<table border=\"1\" class=\"dataframe\">\n",
       "  <thead>\n",
       "    <tr style=\"text-align: right;\">\n",
       "      <th></th>\n",
       "      <th>sex_female</th>\n",
       "      <th>sex_male</th>\n",
       "      <th>region_northeast</th>\n",
       "      <th>region_northwest</th>\n",
       "      <th>region_southeast</th>\n",
       "      <th>region_southwest</th>\n",
       "      <th>smoker_no</th>\n",
       "      <th>smoker_yes</th>\n",
       "    </tr>\n",
       "  </thead>\n",
       "  <tbody>\n",
       "    <tr>\n",
       "      <th>0</th>\n",
       "      <td>1</td>\n",
       "      <td>0</td>\n",
       "      <td>0</td>\n",
       "      <td>0</td>\n",
       "      <td>0</td>\n",
       "      <td>1</td>\n",
       "      <td>0</td>\n",
       "      <td>1</td>\n",
       "    </tr>\n",
       "    <tr>\n",
       "      <th>1</th>\n",
       "      <td>0</td>\n",
       "      <td>1</td>\n",
       "      <td>0</td>\n",
       "      <td>0</td>\n",
       "      <td>1</td>\n",
       "      <td>0</td>\n",
       "      <td>1</td>\n",
       "      <td>0</td>\n",
       "    </tr>\n",
       "    <tr>\n",
       "      <th>2</th>\n",
       "      <td>0</td>\n",
       "      <td>1</td>\n",
       "      <td>0</td>\n",
       "      <td>0</td>\n",
       "      <td>1</td>\n",
       "      <td>0</td>\n",
       "      <td>1</td>\n",
       "      <td>0</td>\n",
       "    </tr>\n",
       "    <tr>\n",
       "      <th>3</th>\n",
       "      <td>0</td>\n",
       "      <td>1</td>\n",
       "      <td>0</td>\n",
       "      <td>1</td>\n",
       "      <td>0</td>\n",
       "      <td>0</td>\n",
       "      <td>1</td>\n",
       "      <td>0</td>\n",
       "    </tr>\n",
       "    <tr>\n",
       "      <th>4</th>\n",
       "      <td>0</td>\n",
       "      <td>1</td>\n",
       "      <td>0</td>\n",
       "      <td>1</td>\n",
       "      <td>0</td>\n",
       "      <td>0</td>\n",
       "      <td>1</td>\n",
       "      <td>0</td>\n",
       "    </tr>\n",
       "    <tr>\n",
       "      <th>...</th>\n",
       "      <td>...</td>\n",
       "      <td>...</td>\n",
       "      <td>...</td>\n",
       "      <td>...</td>\n",
       "      <td>...</td>\n",
       "      <td>...</td>\n",
       "      <td>...</td>\n",
       "      <td>...</td>\n",
       "    </tr>\n",
       "    <tr>\n",
       "      <th>1333</th>\n",
       "      <td>0</td>\n",
       "      <td>1</td>\n",
       "      <td>0</td>\n",
       "      <td>1</td>\n",
       "      <td>0</td>\n",
       "      <td>0</td>\n",
       "      <td>1</td>\n",
       "      <td>0</td>\n",
       "    </tr>\n",
       "    <tr>\n",
       "      <th>1334</th>\n",
       "      <td>1</td>\n",
       "      <td>0</td>\n",
       "      <td>1</td>\n",
       "      <td>0</td>\n",
       "      <td>0</td>\n",
       "      <td>0</td>\n",
       "      <td>1</td>\n",
       "      <td>0</td>\n",
       "    </tr>\n",
       "    <tr>\n",
       "      <th>1335</th>\n",
       "      <td>1</td>\n",
       "      <td>0</td>\n",
       "      <td>0</td>\n",
       "      <td>0</td>\n",
       "      <td>1</td>\n",
       "      <td>0</td>\n",
       "      <td>1</td>\n",
       "      <td>0</td>\n",
       "    </tr>\n",
       "    <tr>\n",
       "      <th>1336</th>\n",
       "      <td>1</td>\n",
       "      <td>0</td>\n",
       "      <td>0</td>\n",
       "      <td>0</td>\n",
       "      <td>0</td>\n",
       "      <td>1</td>\n",
       "      <td>1</td>\n",
       "      <td>0</td>\n",
       "    </tr>\n",
       "    <tr>\n",
       "      <th>1337</th>\n",
       "      <td>1</td>\n",
       "      <td>0</td>\n",
       "      <td>0</td>\n",
       "      <td>1</td>\n",
       "      <td>0</td>\n",
       "      <td>0</td>\n",
       "      <td>0</td>\n",
       "      <td>1</td>\n",
       "    </tr>\n",
       "  </tbody>\n",
       "</table>\n",
       "<p>1338 rows × 8 columns</p>\n",
       "</div>"
      ],
      "text/plain": [
       "      sex_female  sex_male  region_northeast  region_northwest  \\\n",
       "0              1         0                 0                 0   \n",
       "1              0         1                 0                 0   \n",
       "2              0         1                 0                 0   \n",
       "3              0         1                 0                 1   \n",
       "4              0         1                 0                 1   \n",
       "...          ...       ...               ...               ...   \n",
       "1333           0         1                 0                 1   \n",
       "1334           1         0                 1                 0   \n",
       "1335           1         0                 0                 0   \n",
       "1336           1         0                 0                 0   \n",
       "1337           1         0                 0                 1   \n",
       "\n",
       "      region_southeast  region_southwest  smoker_no  smoker_yes  \n",
       "0                    0                 1          0           1  \n",
       "1                    1                 0          1           0  \n",
       "2                    1                 0          1           0  \n",
       "3                    0                 0          1           0  \n",
       "4                    0                 0          1           0  \n",
       "...                ...               ...        ...         ...  \n",
       "1333                 0                 0          1           0  \n",
       "1334                 0                 0          1           0  \n",
       "1335                 1                 0          1           0  \n",
       "1336                 0                 1          1           0  \n",
       "1337                 0                 0          0           1  \n",
       "\n",
       "[1338 rows x 8 columns]"
      ]
     },
     "execution_count": 63,
     "metadata": {},
     "output_type": "execute_result"
    }
   ],
   "source": [
    "pandas.get_dummies(X[['sex','region','smoker']])"
   ]
  },
  {
   "cell_type": "code",
   "execution_count": 64,
   "id": "62910307-5c9f-483b-97cc-7825c3500edd",
   "metadata": {},
   "outputs": [],
   "source": [
    "X3 = pandas.get_dummies(X, columns=['sex','smoker','region'])"
   ]
  },
  {
   "cell_type": "code",
   "execution_count": 65,
   "id": "f2853ea9-a7a6-4ccf-a736-f71b313fcce4",
   "metadata": {},
   "outputs": [
    {
     "data": {
      "text/plain": [
       "bmi                 float64\n",
       "age                   int64\n",
       "children              int64\n",
       "sex_female            uint8\n",
       "sex_male              uint8\n",
       "smoker_no             uint8\n",
       "smoker_yes            uint8\n",
       "region_northeast      uint8\n",
       "region_northwest      uint8\n",
       "region_southeast      uint8\n",
       "region_southwest      uint8\n",
       "dtype: object"
      ]
     },
     "execution_count": 65,
     "metadata": {},
     "output_type": "execute_result"
    }
   ],
   "source": [
    "X3.dtypes"
   ]
  },
  {
   "cell_type": "code",
   "execution_count": 66,
   "id": "6e004b3a-03e6-4373-bc82-fe573b1368b4",
   "metadata": {},
   "outputs": [
    {
     "data": {
      "text/html": [
       "<div>\n",
       "<style scoped>\n",
       "    .dataframe tbody tr th:only-of-type {\n",
       "        vertical-align: middle;\n",
       "    }\n",
       "\n",
       "    .dataframe tbody tr th {\n",
       "        vertical-align: top;\n",
       "    }\n",
       "\n",
       "    .dataframe thead th {\n",
       "        text-align: right;\n",
       "    }\n",
       "</style>\n",
       "<table border=\"1\" class=\"dataframe\">\n",
       "  <thead>\n",
       "    <tr style=\"text-align: right;\">\n",
       "      <th></th>\n",
       "      <th>bmi</th>\n",
       "      <th>age</th>\n",
       "      <th>children</th>\n",
       "      <th>sex_female</th>\n",
       "      <th>sex_male</th>\n",
       "      <th>smoker_no</th>\n",
       "      <th>smoker_yes</th>\n",
       "      <th>region_northeast</th>\n",
       "      <th>region_northwest</th>\n",
       "      <th>region_southeast</th>\n",
       "      <th>region_southwest</th>\n",
       "    </tr>\n",
       "  </thead>\n",
       "  <tbody>\n",
       "    <tr>\n",
       "      <th>0</th>\n",
       "      <td>27.900</td>\n",
       "      <td>19</td>\n",
       "      <td>0</td>\n",
       "      <td>1</td>\n",
       "      <td>0</td>\n",
       "      <td>0</td>\n",
       "      <td>1</td>\n",
       "      <td>0</td>\n",
       "      <td>0</td>\n",
       "      <td>0</td>\n",
       "      <td>1</td>\n",
       "    </tr>\n",
       "    <tr>\n",
       "      <th>1</th>\n",
       "      <td>33.770</td>\n",
       "      <td>18</td>\n",
       "      <td>1</td>\n",
       "      <td>0</td>\n",
       "      <td>1</td>\n",
       "      <td>1</td>\n",
       "      <td>0</td>\n",
       "      <td>0</td>\n",
       "      <td>0</td>\n",
       "      <td>1</td>\n",
       "      <td>0</td>\n",
       "    </tr>\n",
       "    <tr>\n",
       "      <th>2</th>\n",
       "      <td>33.000</td>\n",
       "      <td>28</td>\n",
       "      <td>3</td>\n",
       "      <td>0</td>\n",
       "      <td>1</td>\n",
       "      <td>1</td>\n",
       "      <td>0</td>\n",
       "      <td>0</td>\n",
       "      <td>0</td>\n",
       "      <td>1</td>\n",
       "      <td>0</td>\n",
       "    </tr>\n",
       "    <tr>\n",
       "      <th>3</th>\n",
       "      <td>22.705</td>\n",
       "      <td>33</td>\n",
       "      <td>0</td>\n",
       "      <td>0</td>\n",
       "      <td>1</td>\n",
       "      <td>1</td>\n",
       "      <td>0</td>\n",
       "      <td>0</td>\n",
       "      <td>1</td>\n",
       "      <td>0</td>\n",
       "      <td>0</td>\n",
       "    </tr>\n",
       "    <tr>\n",
       "      <th>4</th>\n",
       "      <td>28.880</td>\n",
       "      <td>32</td>\n",
       "      <td>0</td>\n",
       "      <td>0</td>\n",
       "      <td>1</td>\n",
       "      <td>1</td>\n",
       "      <td>0</td>\n",
       "      <td>0</td>\n",
       "      <td>1</td>\n",
       "      <td>0</td>\n",
       "      <td>0</td>\n",
       "    </tr>\n",
       "  </tbody>\n",
       "</table>\n",
       "</div>"
      ],
      "text/plain": [
       "      bmi  age  children  sex_female  sex_male  smoker_no  smoker_yes  \\\n",
       "0  27.900   19         0           1         0          0           1   \n",
       "1  33.770   18         1           0         1          1           0   \n",
       "2  33.000   28         3           0         1          1           0   \n",
       "3  22.705   33         0           0         1          1           0   \n",
       "4  28.880   32         0           0         1          1           0   \n",
       "\n",
       "   region_northeast  region_northwest  region_southeast  region_southwest  \n",
       "0                 0                 0                 0                 1  \n",
       "1                 0                 0                 1                 0  \n",
       "2                 0                 0                 1                 0  \n",
       "3                 0                 1                 0                 0  \n",
       "4                 0                 1                 0                 0  "
      ]
     },
     "execution_count": 66,
     "metadata": {},
     "output_type": "execute_result"
    }
   ],
   "source": [
    "X3.head()"
   ]
  },
  {
   "cell_type": "code",
   "execution_count": 67,
   "id": "20f16c97-17fc-414f-883a-82a002167e43",
   "metadata": {},
   "outputs": [
    {
     "name": "stdout",
     "output_type": "stream",
     "text": [
      "0.75\n"
     ]
    }
   ],
   "source": [
    "from sklearn.linear_model import LinearRegression\n",
    "from sklearn.dummy import DummyRegressor\n",
    "model = LinearRegression()\n",
    "model.fit(X3,y)\n",
    "r = cross_validate(model, X3, y, scoring='r2')\n",
    "print(r['test_score'].mean().round(2))"
   ]
  },
  {
   "cell_type": "markdown",
   "id": "ebf5b76f-64c3-4127-8f13-86ce55f05325",
   "metadata": {},
   "source": [
    "+ Report: The output of the code is the mean R-squared score obtained from cross-validating the linear regression model on the one-hot encoded features. The R-squared score measures how well the model fits the data, with values closer to 1 indicating a better fit. "
   ]
  },
  {
   "cell_type": "markdown",
   "id": "a006ff35-792d-4dc5-9624-d48ac27b95bb",
   "metadata": {},
   "source": [
    "***Steps to carryout:***"
   ]
  },
  {
   "cell_type": "code",
   "execution_count": 68,
   "id": "658d7269-5a0b-4431-ac1d-ea2090cd65f0",
   "metadata": {},
   "outputs": [
    {
     "data": {
      "text/plain": [
       "DecisionTreeRegressor()"
      ]
     },
     "execution_count": 68,
     "metadata": {},
     "output_type": "execute_result"
    }
   ],
   "source": [
    "from sklearn.tree import DecisionTreeRegressor\n",
    "model2 = DecisionTreeRegressor()\n",
    "model2.fit(X3,y)"
   ]
  },
  {
   "cell_type": "code",
   "execution_count": 69,
   "id": "3947a8ad-b7ab-490a-8832-379a689a8403",
   "metadata": {},
   "outputs": [
    {
     "data": {
      "text/plain": [
       "1.0"
      ]
     },
     "execution_count": 69,
     "metadata": {},
     "output_type": "execute_result"
    }
   ],
   "source": [
    "model2.score(X3,y).round(2)"
   ]
  },
  {
   "cell_type": "code",
   "execution_count": 70,
   "id": "17f3007c-9706-4014-8c62-788a1666f228",
   "metadata": {},
   "outputs": [
    {
     "name": "stdout",
     "output_type": "stream",
     "text": [
      "0.71\n"
     ]
    }
   ],
   "source": [
    "from sklearn.model_selection import cross_validate, ShuffleSplit\n",
    "\n",
    "cv = ShuffleSplit(n_splits=100)\n",
    "result1 = cross_validate(model2, X3, y, cv=cv, scoring='r2')\n",
    "print(result1['test_score'].mean().round(2))"
   ]
  },
  {
   "cell_type": "code",
   "execution_count": 71,
   "id": "fab0a962-b88d-4dd3-af98-3ab4ca1c3441",
   "metadata": {},
   "outputs": [
    {
     "name": "stdout",
     "output_type": "stream",
     "text": [
      "2 0.82\n",
      "3 0.85\n",
      "4 0.83\n",
      "5 0.85\n",
      "6 0.83\n",
      "7 0.81\n",
      "8 0.77\n",
      "9 0.75\n",
      "10 0.71\n",
      "11 0.73\n",
      "12 0.72\n",
      "13 0.71\n",
      "14 0.71\n",
      "15 0.7\n",
      "16 0.73\n",
      "17 0.69\n",
      "18 0.69\n",
      "19 0.74\n"
     ]
    }
   ],
   "source": [
    "cv = ShuffleSplit(n_splits=20)\n",
    "for d in range(2, 20):\n",
    "    model = DecisionTreeRegressor(max_depth=d)\n",
    "    r = cross_validate(model, X3, y, cv=cv, scoring='r2')\n",
    "    print(d, r['test_score'].mean().round(2))"
   ]
  },
  {
   "cell_type": "markdown",
   "id": "340055f4-c993-443f-8a40-00ec1e656b43",
   "metadata": {},
   "source": [
    "+ the best max_depth seems to be 4. model = DecisionTreeRegressor(max_depth=4)"
   ]
  },
  {
   "cell_type": "code",
   "execution_count": 72,
   "id": "b673b817-7782-453d-a89d-1369d36195f9",
   "metadata": {},
   "outputs": [
    {
     "name": "stdout",
     "output_type": "stream",
     "text": [
      "8 0.83\n",
      "9 0.83\n",
      "10 0.82\n",
      "11 0.84\n",
      "12 0.83\n",
      "13 0.83\n",
      "14 0.84\n"
     ]
    }
   ],
   "source": [
    "cv = ShuffleSplit(n_splits=20)\n",
    "for d in range(8, 15):\n",
    "    model = DecisionTreeRegressor(min_samples_leaf=d)\n",
    "    r = cross_validate(model, X3, y, cv=cv, scoring='r2')\n",
    "    print(d, r['test_score'].mean().round(2))"
   ]
  },
  {
   "cell_type": "markdown",
   "id": "8816677f-c146-4529-9653-3630c2616dfb",
   "metadata": {},
   "source": [
    "+ the best min_samples_leaf seems to be 14. model = DecisionTreeRegressor(min_samples_leaf=14)"
   ]
  },
  {
   "cell_type": "code",
   "execution_count": null,
   "id": "5fa0d686-9bae-4dfd-b8ad-c56bd37508fc",
   "metadata": {},
   "outputs": [
    {
     "name": "stdout",
     "output_type": "stream",
     "text": [
      "8 2 0.82\n",
      "8 3 0.84\n",
      "8 4 0.84\n",
      "8 5 0.86\n",
      "8 6 0.85\n",
      "8 7 0.83\n",
      "8 8 0.85\n",
      "8 9 0.84\n",
      "8 10 0.83\n",
      "8 11 0.83\n",
      "8 12 0.82\n",
      "8 13 0.83\n",
      "8 14 0.85\n",
      "8 15 0.84\n",
      "8 16 0.82\n",
      "8 17 0.83\n",
      "8 18 0.83\n",
      "8 19 0.83\n",
      "9 2 0.81\n",
      "9 3 0.84\n",
      "9 4 0.86\n",
      "9 5 0.86\n",
      "9 6 0.86\n",
      "9 7 0.84\n",
      "9 8 0.83\n",
      "9 9 0.84\n",
      "9 10 0.85\n",
      "9 11 0.84\n",
      "9 12 0.84\n",
      "9 13 0.83\n",
      "9 14 0.85\n",
      "9 15 0.84\n",
      "9 16 0.83\n",
      "9 17 0.82\n",
      "9 18 0.85\n",
      "9 19 0.84\n",
      "10 2 0.81\n",
      "10 3 0.82\n",
      "10 4 0.83\n",
      "10 5 0.84\n",
      "10 6 0.85\n",
      "10 7 0.82\n",
      "10 8 0.85\n",
      "10 9 0.83\n",
      "10 10 0.83\n",
      "10 11 0.84\n",
      "10 12 0.83\n",
      "10 13 0.84\n",
      "10 14 0.83\n",
      "10 15 0.84\n",
      "10 16 0.84\n",
      "10 17 0.84\n",
      "10 18 0.84\n",
      "10 19 0.83\n",
      "11 2 0.82\n",
      "11 3 0.85\n",
      "11 4 0.85\n",
      "11 5 0.85\n",
      "11 6 0.85\n",
      "11 7 0.84\n",
      "11 8 0.84\n",
      "11 9 0.84\n",
      "11 10 0.85\n",
      "11 11 0.82\n",
      "11 12 0.84\n",
      "11 13 0.86\n",
      "11 14 0.83\n",
      "11 15 0.84\n",
      "11 16 0.83\n",
      "11 17 0.83\n",
      "11 18 0.83\n",
      "11 19 0.82\n",
      "12 2 0.83\n",
      "12 3 0.84\n",
      "12 4 0.85\n",
      "12 5 0.86\n",
      "12 6 0.86\n",
      "12 7 0.85\n",
      "12 8 0.85\n",
      "12 9 0.84\n",
      "12 10 0.83\n",
      "12 11 0.85\n",
      "12 12 0.85\n",
      "12 13 0.86\n",
      "12 14 0.85\n",
      "12 15 0.84\n",
      "12 16 0.84\n",
      "12 17 0.85\n",
      "12 18 0.83\n",
      "12 19 0.84\n",
      "13 2 0.83\n",
      "13 3 0.83\n",
      "13 4 0.86\n",
      "13 5 0.85\n",
      "13 6 0.85\n",
      "13 7 0.84\n",
      "13 8 0.85\n",
      "13 9 0.83\n",
      "13 10 0.83\n",
      "13 11 0.82\n",
      "13 12 0.85\n",
      "13 13 0.85\n",
      "13 14 0.85\n",
      "13 15 0.85\n",
      "13 16 0.83\n",
      "13 17 0.85\n",
      "13 18 0.85\n",
      "13 19 0.84\n",
      "14 2 0.82\n",
      "14 3 0.84\n",
      "14 4 0.86\n",
      "14 5 0.84\n",
      "14 6 0.85\n",
      "14 7 0.85\n",
      "14 8 0.85\n",
      "14 9 0.84\n",
      "14 10 0.86\n",
      "14 11 0.84\n",
      "14 12 0.85\n",
      "14 13 0.84\n",
      "14 14 0.84\n",
      "14 15 0.85\n",
      "14 16 0.86\n",
      "14 17 0.85\n",
      "14 18 0.85\n",
      "14 19 0.84\n"
     ]
    }
   ],
   "source": [
    "for l in range(8,15):\n",
    "    for d in range(2,20):\n",
    "        model = DecisionTreeRegressor(max_depth=d, min_samples_leaf=l)\n",
    "        r = cross_validate(model, X3, y, cv=cv, scoring='r2')\n",
    "        print(l, d, r['test_score'].mean().round(2))"
   ]
  },
  {
   "cell_type": "code",
   "execution_count": null,
   "id": "1f5b40a9-adb5-4feb-8b39-855ab7da9481",
   "metadata": {},
   "outputs": [],
   "source": [
    "model4 = DecisionTreeRegressor(min_samples_leaf=13, max_depth=5)"
   ]
  },
  {
   "cell_type": "code",
   "execution_count": null,
   "id": "d6b072c0-204d-4a1a-9d54-c2cc06bc3af8",
   "metadata": {},
   "outputs": [
    {
     "name": "stdout",
     "output_type": "stream",
     "text": [
      "0.85\n"
     ]
    }
   ],
   "source": [
    "cv = ShuffleSplit(n_splits=20)\n",
    "r = cross_validate(model4, X3, y, cv=cv, scoring='r2')\n",
    "print(r['test_score'].mean().round(2))"
   ]
  },
  {
   "cell_type": "markdown",
   "id": "1ab06996-d345-4810-ad55-c9d35a9c3a87",
   "metadata": {},
   "source": [
    "+ Report: \n",
    "\n",
    "+ The first line of code defines a decision tree regression model, model4, with hyperparameters min_samples_leaf=13 and max_depth=5. This means that the minimum number of samples required to be at a leaf node is 13, and the maximum depth of the tree is 5.\n",
    "\n",
    "+ The second line of code creates a ShuffleSplit cross-validation object called cv with n_splits=20. This means that the data will be split into 20 random subsets during cross-validation.\n",
    "\n",
    "+ The third line of code uses the cross_validate function from scikit-learn to perform cross-validation on the decision tree model model4.\n",
    "\n",
    "+ The cross_validate function returns a dictionary with various metrics, including the R-squared score for each fold of the cross-validation. We access the 'test_score' key of this dictionary, which contains the R-squared scores for each test fold.\n",
    "\n",
    "+ Finally, the mean R-squared score is printed.\n",
    "\n",
    "\n",
    "\n",
    "\n"
   ]
  },
  {
   "cell_type": "markdown",
   "id": "9cadfe80-2d26-413d-8f45-4d0b72ec2283",
   "metadata": {},
   "source": [
    "---\n",
    "**Problem 8**\n",
    "\n",
    "Evaluate the performance of the non-linear method Random Forest Regressor. You should use all features to build your model.  Vary the parameters, e.g. max_depth, min_samples_leaf, to improve the performance of the model."
   ]
  },
  {
   "cell_type": "markdown",
   "id": "c1f61ce9-0e29-4878-867a-6d84243c372a",
   "metadata": {},
   "source": [
    "***Steps to carryout:***"
   ]
  },
  {
   "cell_type": "code",
   "execution_count": 77,
   "id": "9ff5a739-6892-4b15-a69f-be8ab41395ea",
   "metadata": {},
   "outputs": [
    {
     "data": {
      "text/plain": [
       "RandomForestRegressor()"
      ]
     },
     "execution_count": 77,
     "metadata": {},
     "output_type": "execute_result"
    }
   ],
   "source": [
    "from sklearn.tree import DecisionTreeRegressor\n",
    "from sklearn.ensemble import RandomForestRegressor\n",
    "model5 = RandomForestRegressor()\n",
    "model5.fit(X3,y)"
   ]
  },
  {
   "cell_type": "code",
   "execution_count": 78,
   "id": "f7057971-7121-44b8-bdad-4ff72dc078c6",
   "metadata": {},
   "outputs": [
    {
     "data": {
      "text/plain": [
       "0.98"
      ]
     },
     "execution_count": 78,
     "metadata": {},
     "output_type": "execute_result"
    }
   ],
   "source": [
    "model5.score(X3,y).round(2)"
   ]
  },
  {
   "cell_type": "code",
   "execution_count": 79,
   "id": "baa5443e-f26c-4381-8cc7-667324543811",
   "metadata": {},
   "outputs": [
    {
     "name": "stdout",
     "output_type": "stream",
     "text": [
      "2 0.82\n",
      "3 0.86\n",
      "4 0.86\n",
      "5 0.87\n",
      "6 0.87\n",
      "7 0.83\n",
      "8 0.83\n",
      "9 0.83\n",
      "10 0.84\n",
      "11 0.84\n",
      "12 0.84\n",
      "13 0.84\n",
      "14 0.83\n",
      "15 0.86\n",
      "16 0.83\n",
      "17 0.82\n",
      "18 0.84\n",
      "19 0.82\n"
     ]
    }
   ],
   "source": [
    "cv = ShuffleSplit(n_splits=20)\n",
    "for d in range(2, 20):\n",
    "    model = RandomForestRegressor(max_depth=d)\n",
    "    r = cross_validate(model, X3, y, cv=cv, scoring='r2')\n",
    "    print(d, r['test_score'].mean().round(2))"
   ]
  },
  {
   "cell_type": "markdown",
   "id": "7467e486-c8f1-410e-b3ab-cf8dfc6fa05a",
   "metadata": {},
   "source": [
    "+ the best max_depth seems to be 4. model = RandomForestRegressor(max_depth=4)"
   ]
  },
  {
   "cell_type": "code",
   "execution_count": 80,
   "id": "8a4997f8-dda8-4d74-94a9-0245282e0ecd",
   "metadata": {},
   "outputs": [
    {
     "name": "stdout",
     "output_type": "stream",
     "text": [
      "8 0.85\n",
      "9 0.85\n",
      "10 0.85\n",
      "11 0.86\n",
      "12 0.86\n",
      "13 0.87\n",
      "14 0.83\n"
     ]
    }
   ],
   "source": [
    "cv = ShuffleSplit(n_splits=20)\n",
    "for d in range(8, 15):\n",
    "    model = RandomForestRegressor(min_samples_leaf=d)\n",
    "    r = cross_validate(model, X3, y, cv=cv, scoring='r2')\n",
    "    print(d, r['test_score'].mean().round(2))"
   ]
  },
  {
   "cell_type": "markdown",
   "id": "0798baf9-78c7-40a0-819b-8c0ba467f5e1",
   "metadata": {},
   "source": [
    "+ the best min_samples_leaf seems to be 13. model = RandomForestRegressor(min_samples_leaf=13)"
   ]
  },
  {
   "cell_type": "code",
   "execution_count": null,
   "id": "7aab12fd-4f60-4481-b694-4e14a0c49211",
   "metadata": {},
   "outputs": [
    {
     "name": "stdout",
     "output_type": "stream",
     "text": [
      "8 2 0.82\n",
      "8 3 0.86\n",
      "8 4 0.88\n",
      "8 5 0.86\n",
      "8 6 0.85\n",
      "8 7 0.86\n",
      "8 8 0.86\n",
      "8 9 0.84\n",
      "8 10 0.84\n",
      "8 11 0.84\n",
      "8 12 0.85\n",
      "8 13 0.85\n",
      "8 14 0.85\n",
      "8 15 0.85\n",
      "8 16 0.86\n",
      "8 17 0.85\n",
      "8 18 0.86\n",
      "8 19 0.86\n",
      "9 2 0.82\n",
      "9 3 0.84\n",
      "9 4 0.87\n",
      "9 5 0.85\n",
      "9 6 0.86\n",
      "9 7 0.88\n",
      "9 8 0.86\n",
      "9 9 0.85\n",
      "9 10 0.84\n",
      "9 11 0.88\n",
      "9 12 0.84\n",
      "9 13 0.84\n",
      "9 14 0.86\n",
      "9 15 0.86\n",
      "9 16 0.86\n",
      "9 17 0.86\n",
      "9 18 0.86\n",
      "9 19 0.84\n",
      "10 2 0.82\n",
      "10 3 0.87\n",
      "10 4 0.84\n"
     ]
    }
   ],
   "source": [
    "for l in range(8,15):\n",
    "    for d in range(2,20):\n",
    "        model = RandomForestRegressor(max_depth=d, min_samples_leaf=l)\n",
    "        r = cross_validate(model, X3, y, cv=cv, scoring='r2')\n",
    "        print(l, d, r['test_score'].mean().round(2))"
   ]
  },
  {
   "cell_type": "code",
   "execution_count": null,
   "id": "22c77556-4c95-4525-bfdd-1d60db9d3f2c",
   "metadata": {},
   "outputs": [],
   "source": [
    "model = RandomForestRegressor(min_samples_leaf=12, max_depth=5)"
   ]
  },
  {
   "cell_type": "code",
   "execution_count": null,
   "id": "66da29bc-07f2-4663-8965-0723e14c2b8c",
   "metadata": {},
   "outputs": [],
   "source": [
    "cv = ShuffleSplit(n_splits=20)\n",
    "r = cross_validate(model, X3, y, cv=cv, scoring='r2')\n",
    "print(r['test_score'].mean().round(2))"
   ]
  },
  {
   "cell_type": "markdown",
   "id": "b1ccafd0-8344-4066-90a2-8a0e59bc914f",
   "metadata": {},
   "source": [
    "+ Report: \n",
    "\n",
    "+ Code defines a RandomForestRegressor model, with hyperparameters min_samples_leaf=12 and max_depth=5. This means that the minimum number of samples required to be at a leaf node is 13, and the maximum depth of the tree is 5.\n",
    "\n",
    "+ The second line of code creates a ShuffleSplit cross-validation object called cv with n_splits=20. This means that the data will be split into 20 random subsets during cross-validation.\n",
    "\n",
    "+ The third line of code uses the cross_validate function from scikit-learn to perform cross-validation on the RandomForestRegressor model.\n",
    "\n",
    "+ The cross_validate function returns a dictionary with various metrics, including the R-squared score for each fold of the cross-validation. We access the 'test_score' key of this dictionary, which contains the R-squared scores for each test fold.\n",
    "\n",
    "+ Finally, the mean R-squared score is printed.\n",
    "\n",
    "\n",
    "\n"
   ]
  },
  {
   "cell_type": "code",
   "execution_count": 85,
   "id": "4c2463ee-baba-49a5-81b8-bb8491a86b92",
   "metadata": {},
   "outputs": [
    {
     "name": "stdout",
     "output_type": "stream",
     "text": [
      "Shapiro test\n",
      "Children 5.066361280494088e-36\n",
      "Charges 1.150477698013898e-36\n"
     ]
    }
   ],
   "source": [
    "import seaborn\n",
    "from matplotlib import pyplot\n",
    "from scipy.stats import shapiro, normaltest\n",
    "import pandas\n",
    "df = pandas.read_csv('/Users/yashds/Documents/UofM/SECOND SEM/FDS/Datasets/insurance_costs.csv')\n",
    "df.sample(3)\n",
    "print('Shapiro test')\n",
    "print('Children', shapiro(df['children']).pvalue)\n",
    "print('Charges', shapiro(df['charges']).pvalue)"
   ]
  },
  {
   "cell_type": "code",
   "execution_count": 86,
   "id": "b5ac3b01-d5d3-4624-aaf0-4aa157133661",
   "metadata": {},
   "outputs": [
    {
     "data": {
      "text/html": [
       "<div>\n",
       "<style scoped>\n",
       "    .dataframe tbody tr th:only-of-type {\n",
       "        vertical-align: middle;\n",
       "    }\n",
       "\n",
       "    .dataframe tbody tr th {\n",
       "        vertical-align: top;\n",
       "    }\n",
       "\n",
       "    .dataframe thead th {\n",
       "        text-align: right;\n",
       "    }\n",
       "</style>\n",
       "<table border=\"1\" class=\"dataframe\">\n",
       "  <thead>\n",
       "    <tr style=\"text-align: right;\">\n",
       "      <th></th>\n",
       "      <th>charges</th>\n",
       "    </tr>\n",
       "    <tr>\n",
       "      <th>children</th>\n",
       "      <th></th>\n",
       "    </tr>\n",
       "  </thead>\n",
       "  <tbody>\n",
       "    <tr>\n",
       "      <th>0</th>\n",
       "      <td>12365.975602</td>\n",
       "    </tr>\n",
       "    <tr>\n",
       "      <th>1</th>\n",
       "      <td>12731.171832</td>\n",
       "    </tr>\n",
       "    <tr>\n",
       "      <th>2</th>\n",
       "      <td>15073.563734</td>\n",
       "    </tr>\n",
       "    <tr>\n",
       "      <th>3</th>\n",
       "      <td>15355.318367</td>\n",
       "    </tr>\n",
       "    <tr>\n",
       "      <th>4</th>\n",
       "      <td>13850.656311</td>\n",
       "    </tr>\n",
       "    <tr>\n",
       "      <th>5</th>\n",
       "      <td>8786.035247</td>\n",
       "    </tr>\n",
       "  </tbody>\n",
       "</table>\n",
       "</div>"
      ],
      "text/plain": [
       "               charges\n",
       "children              \n",
       "0         12365.975602\n",
       "1         12731.171832\n",
       "2         15073.563734\n",
       "3         15355.318367\n",
       "4         13850.656311\n",
       "5          8786.035247"
      ]
     },
     "execution_count": 86,
     "metadata": {},
     "output_type": "execute_result"
    }
   ],
   "source": [
    "df.groupby('children').mean()[['charges']]"
   ]
  },
  {
   "cell_type": "code",
   "execution_count": 87,
   "id": "15341793-7867-46e2-8b3a-f88ca6d86b36",
   "metadata": {},
   "outputs": [
    {
     "data": {
      "image/png": "[encoded data removed]",
      "text/plain": [
       "<Figure size 360x360 with 1 Axes>"
      ]
     },
     "metadata": {
      "needs_background": "light"
     },
     "output_type": "display_data"
    }
   ],
   "source": [
    "seaborn.catplot(data=df, x='children', y='charges', kind='bar')\n",
    "pyplot.show()"
   ]
  },
  {
   "cell_type": "markdown",
   "id": "bd42d873-03ec-443b-9013-fe054ac5b69c",
   "metadata": {},
   "source": [
    "***numerical analysis and a visual analysis***\n"
   ]
  },
  {
   "cell_type": "markdown",
   "id": "fa150e4b-b3f3-4c5c-9099-9f480cb0425b",
   "metadata": {},
   "source": [
    "+ Report: Having more children results in higher insurance charges is not true as we can see in above numerical and visual analysis it shows having 3 children shows high insurance charges when compared to having 5 children"
   ]
  },
  {
   "cell_type": "markdown",
   "id": "bca90e23-5946-427a-a22b-c36ccd7bfeed",
   "metadata": {},
   "source": [
    "+ Report: A performance metric we gonna use is r2 because R2 is the right metric to use for regression. R-squared compares the error of the model $f$ to that of a naive/baseline model that makes the mean of $y$ to be its prediction.\n",
    "\n",
    "    "
   ]
  },
  {
   "cell_type": "code",
   "execution_count": 88,
   "id": "283e94c4-08f6-4117-9f90-483246062eca",
   "metadata": {},
   "outputs": [
    {
     "data": {
      "text/plain": [
       "DecisionTreeClassifier()"
      ]
     },
     "execution_count": 88,
     "metadata": {},
     "output_type": "execute_result"
    }
   ],
   "source": [
    "from sklearn.model_selection import cross_validate, ShuffleSplit, KFold\n",
    "from sklearn.tree import DecisionTreeClassifier, plot_tree\n",
    "\n",
    "\n",
    "X, y = df.drop(columns=['smoker']), df['smoker']\n",
    "X1 = pandas.get_dummies(X)\n",
    "y1 = pandas.get_dummies(y)\n",
    "model = DecisionTreeClassifier()\n",
    "validator = KFold(n_splits=5, shuffle=True)\n",
    "model.fit(X1,y1)"
   ]
  },
  {
   "cell_type": "markdown",
   "id": "dbb41003-0e3e-4966-b5d4-da341550e102",
   "metadata": {},
   "source": [
    "+ Report: As we used get_dummies to convert categorical features to numberical variable for both X,y. and created a decision tree model to predict if a person smokes or not. we chose smoker as target variable for this model."
   ]
  },
  {
   "cell_type": "code",
   "execution_count": 91,
   "id": "ccf84f53-c59e-4983-be5d-2b8286c8c2a0",
   "metadata": {},
   "outputs": [
    {
     "data": {
      "text/html": [
       "<div>\n",
       "<style scoped>\n",
       "    .dataframe tbody tr th:only-of-type {\n",
       "        vertical-align: middle;\n",
       "    }\n",
       "\n",
       "    .dataframe tbody tr th {\n",
       "        vertical-align: top;\n",
       "    }\n",
       "\n",
       "    .dataframe thead th {\n",
       "        text-align: right;\n",
       "    }\n",
       "</style>\n",
       "<table border=\"1\" class=\"dataframe\">\n",
       "  <thead>\n",
       "    <tr style=\"text-align: right;\">\n",
       "      <th></th>\n",
       "      <th>age</th>\n",
       "      <th>bmi</th>\n",
       "      <th>children</th>\n",
       "      <th>charges</th>\n",
       "      <th>sex_female</th>\n",
       "      <th>sex_male</th>\n",
       "      <th>region_northeast</th>\n",
       "      <th>region_northwest</th>\n",
       "      <th>region_southeast</th>\n",
       "      <th>region_southwest</th>\n",
       "    </tr>\n",
       "  </thead>\n",
       "  <tbody>\n",
       "    <tr>\n",
       "      <th>0</th>\n",
       "      <td>19</td>\n",
       "      <td>27.900</td>\n",
       "      <td>0</td>\n",
       "      <td>16884.92400</td>\n",
       "      <td>1</td>\n",
       "      <td>0</td>\n",
       "      <td>0</td>\n",
       "      <td>0</td>\n",
       "      <td>0</td>\n",
       "      <td>1</td>\n",
       "    </tr>\n",
       "    <tr>\n",
       "      <th>1</th>\n",
       "      <td>18</td>\n",
       "      <td>33.770</td>\n",
       "      <td>1</td>\n",
       "      <td>1725.55230</td>\n",
       "      <td>0</td>\n",
       "      <td>1</td>\n",
       "      <td>0</td>\n",
       "      <td>0</td>\n",
       "      <td>1</td>\n",
       "      <td>0</td>\n",
       "    </tr>\n",
       "    <tr>\n",
       "      <th>2</th>\n",
       "      <td>28</td>\n",
       "      <td>33.000</td>\n",
       "      <td>3</td>\n",
       "      <td>4449.46200</td>\n",
       "      <td>0</td>\n",
       "      <td>1</td>\n",
       "      <td>0</td>\n",
       "      <td>0</td>\n",
       "      <td>1</td>\n",
       "      <td>0</td>\n",
       "    </tr>\n",
       "    <tr>\n",
       "      <th>3</th>\n",
       "      <td>33</td>\n",
       "      <td>22.705</td>\n",
       "      <td>0</td>\n",
       "      <td>21984.47061</td>\n",
       "      <td>0</td>\n",
       "      <td>1</td>\n",
       "      <td>0</td>\n",
       "      <td>1</td>\n",
       "      <td>0</td>\n",
       "      <td>0</td>\n",
       "    </tr>\n",
       "    <tr>\n",
       "      <th>4</th>\n",
       "      <td>32</td>\n",
       "      <td>28.880</td>\n",
       "      <td>0</td>\n",
       "      <td>3866.85520</td>\n",
       "      <td>0</td>\n",
       "      <td>1</td>\n",
       "      <td>0</td>\n",
       "      <td>1</td>\n",
       "      <td>0</td>\n",
       "      <td>0</td>\n",
       "    </tr>\n",
       "  </tbody>\n",
       "</table>\n",
       "</div>"
      ],
      "text/plain": [
       "   age     bmi  children      charges  sex_female  sex_male  region_northeast  \\\n",
       "0   19  27.900         0  16884.92400           1         0                 0   \n",
       "1   18  33.770         1   1725.55230           0         1                 0   \n",
       "2   28  33.000         3   4449.46200           0         1                 0   \n",
       "3   33  22.705         0  21984.47061           0         1                 0   \n",
       "4   32  28.880         0   3866.85520           0         1                 0   \n",
       "\n",
       "   region_northwest  region_southeast  region_southwest  \n",
       "0                 0                 0                 1  \n",
       "1                 0                 1                 0  \n",
       "2                 0                 1                 0  \n",
       "3                 1                 0                 0  \n",
       "4                 1                 0                 0  "
      ]
     },
     "execution_count": 91,
     "metadata": {},
     "output_type": "execute_result"
    }
   ],
   "source": [
    "\n",
    "X1.head()"
   ]
  },
  {
   "cell_type": "code",
   "execution_count": 90,
   "id": "25b24567-cc1d-45e7-b697-8e706dcf3cce",
   "metadata": {},
   "outputs": [
    {
     "data": {
      "text/html": [
       "<div>\n",
       "<style scoped>\n",
       "    .dataframe tbody tr th:only-of-type {\n",
       "        vertical-align: middle;\n",
       "    }\n",
       "\n",
       "    .dataframe tbody tr th {\n",
       "        vertical-align: top;\n",
       "    }\n",
       "\n",
       "    .dataframe thead th {\n",
       "        text-align: right;\n",
       "    }\n",
       "</style>\n",
       "<table border=\"1\" class=\"dataframe\">\n",
       "  <thead>\n",
       "    <tr style=\"text-align: right;\">\n",
       "      <th></th>\n",
       "      <th>no</th>\n",
       "      <th>yes</th>\n",
       "    </tr>\n",
       "  </thead>\n",
       "  <tbody>\n",
       "    <tr>\n",
       "      <th>0</th>\n",
       "      <td>0</td>\n",
       "      <td>1</td>\n",
       "    </tr>\n",
       "    <tr>\n",
       "      <th>1</th>\n",
       "      <td>1</td>\n",
       "      <td>0</td>\n",
       "    </tr>\n",
       "    <tr>\n",
       "      <th>2</th>\n",
       "      <td>1</td>\n",
       "      <td>0</td>\n",
       "    </tr>\n",
       "    <tr>\n",
       "      <th>3</th>\n",
       "      <td>1</td>\n",
       "      <td>0</td>\n",
       "    </tr>\n",
       "    <tr>\n",
       "      <th>4</th>\n",
       "      <td>1</td>\n",
       "      <td>0</td>\n",
       "    </tr>\n",
       "  </tbody>\n",
       "</table>\n",
       "</div>"
      ],
      "text/plain": [
       "   no  yes\n",
       "0   0    1\n",
       "1   1    0\n",
       "2   1    0\n",
       "3   1    0\n",
       "4   1    0"
      ]
     },
     "execution_count": 90,
     "metadata": {},
     "output_type": "execute_result"
    }
   ],
   "source": [
    "y1.head()"
   ]
  },
  {
   "cell_type": "code",
   "execution_count": 92,
   "id": "5ae2d179-fed8-445a-80ac-2254e6b2533b",
   "metadata": {},
   "outputs": [
    {
     "name": "stdout",
     "output_type": "stream",
     "text": [
      "0.76\n"
     ]
    }
   ],
   "source": [
    "cv = ShuffleSplit(n_splits=100)\n",
    "r = cross_validate(model, X1, y1, cv=cv, scoring='r2')\n",
    "print(r['test_score'].mean().round(2))\n"
   ]
  },
  {
   "cell_type": "code",
   "execution_count": 93,
   "id": "da2a30e0-e325-443e-9cdd-027dbc4f92ec",
   "metadata": {},
   "outputs": [
    {
     "name": "stdout",
     "output_type": "stream",
     "text": [
      "0.76\n"
     ]
    }
   ],
   "source": [
    "cv = KFold(n_splits=100, shuffle=True)\n",
    "result_dt = cross_validate(model, X1, y1, cv=cv, scoring='r2')\n",
    "print(r['test_score'].mean().round(2))"
   ]
  },
  {
   "cell_type": "markdown",
   "id": "06b82c84-50d7-42b9-8764-f084faae1e24",
   "metadata": {},
   "source": [
    "+ Report: I have checked the performance of decision tree model that we created using r2 as performance metric and using cross validation both on ShuffleSplit and kFold and, we got the same output for both cross validation.\n"
   ]
  },
  {
   "cell_type": "code",
   "execution_count": 94,
   "id": "8321050c-01ba-49e1-a4b3-f14fb001a80d",
   "metadata": {},
   "outputs": [
    {
     "data": {
      "image/png": "[encoded data removed]",
      "text/plain": [
       "<Figure size 432x288 with 1 Axes>"
      ]
     },
     "metadata": {
      "needs_background": "light"
     },
     "output_type": "display_data"
    }
   ],
   "source": [
    "from sklearn.tree import DecisionTreeClassifier, plot_tree\n",
    "model = DecisionTreeClassifier()\n",
    "model.fit(X1,y1)\n",
    "t = plot_tree(model, feature_names=X1.columns, class_names=['smoker','non-smoker'])"
   ]
  },
  {
   "cell_type": "code",
   "execution_count": 95,
   "id": "b6d7a59a-150d-42f4-bf86-63c0f91a5042",
   "metadata": {},
   "outputs": [
    {
     "data": {
      "text/plain": [
       "[Text(0.42846385542168675, 0.9583333333333334, 'charges <= 15294.714\\ngini = 0.326\\nsamples = 1338\\nvalue = [[274, 1064]\\n[1064, 274]]'),\n",
       " Text(0.18072289156626506, 0.875, 'charges <= 14453.74\\ngini = 0.016\\nsamples = 985\\nvalue = [[8, 977]\\n[977, 8]]'),\n",
       " Text(0.12048192771084337, 0.7916666666666666, 'charges <= 13736.672\\ngini = 0.008\\nsamples = 971\\nvalue = [[4, 967]\\n[967, 4]]'),\n",
       " Text(0.07228915662650602, 0.7083333333333334, 'bmi <= 17.338\\ngini = 0.002\\nsamples = 935\\nvalue = [[1, 934]\\n[934, 1]]'),\n",
       " Text(0.04819277108433735, 0.625, 'charges <= 9853.718\\ngini = 0.278\\nsamples = 6\\nvalue = [[1, 5]\\n[5, 1]]'),\n",
       " Text(0.024096385542168676, 0.5416666666666666, 'gini = 0.0\\nsamples = 5\\nvalue = [[0, 5]\\n[5, 0]]'),\n",
       " Text(0.07228915662650602, 0.5416666666666666, 'gini = 0.0\\nsamples = 1\\nvalue = [[1, 0]\\n[0, 1]]'),\n",
       " Text(0.0963855421686747, 0.625, 'gini = 0.0\\nsamples = 929\\nvalue = [[0, 929]\\n[929, 0]]'),\n",
       " Text(0.1686746987951807, 0.7083333333333334, 'age <= 21.0\\ngini = 0.153\\nsamples = 36\\nvalue = [[3, 33]\\n[33, 3]]'),\n",
       " Text(0.14457831325301204, 0.625, 'bmi <= 29.99\\ngini = 0.375\\nsamples = 4\\nvalue = [[3, 1]\\n[1, 3]]'),\n",
       " Text(0.12048192771084337, 0.5416666666666666, 'gini = 0.0\\nsamples = 3\\nvalue = [[3, 0]\\n[0, 3]]'),\n",
       " Text(0.1686746987951807, 0.5416666666666666, 'gini = 0.0\\nsamples = 1\\nvalue = [[0, 1]\\n[1, 0]]'),\n",
       " Text(0.1927710843373494, 0.625, 'gini = 0.0\\nsamples = 32\\nvalue = [[0, 32]\\n[32, 0]]'),\n",
       " Text(0.24096385542168675, 0.7916666666666666, 'bmi <= 23.97\\ngini = 0.408\\nsamples = 14\\nvalue = [[4, 10]\\n[10, 4]]'),\n",
       " Text(0.21686746987951808, 0.7083333333333334, 'gini = 0.0\\nsamples = 4\\nvalue = [[4, 0]\\n[0, 4]]'),\n",
       " Text(0.26506024096385544, 0.7083333333333334, 'gini = 0.0\\nsamples = 10\\nvalue = [[0, 10]\\n[10, 0]]'),\n",
       " Text(0.6762048192771084, 0.875, 'charges <= 32328.501\\ngini = 0.371\\nsamples = 353\\nvalue = [[266, 87]\\n[87, 266]]'),\n",
       " Text(0.46686746987951805, 0.7916666666666666, 'bmi <= 30.01\\ngini = 0.486\\nsamples = 199\\nvalue = [[116, 83]\\n[83, 116]]'),\n",
       " Text(0.4427710843373494, 0.7083333333333334, 'charges <= 24453.357\\ngini = 0.351\\nsamples = 150\\nvalue = [[116, 34]\\n[34, 116]]'),\n",
       " Text(0.29518072289156627, 0.625, 'bmi <= 29.225\\ngini = 0.263\\nsamples = 109\\nvalue = [[92, 17]\\n[17, 92]]'),\n",
       " Text(0.21686746987951808, 0.5416666666666666, 'age <= 56.5\\ngini = 0.213\\nsamples = 99\\nvalue = [[87, 12]\\n[12, 87]]'),\n",
       " Text(0.1927710843373494, 0.4583333333333333, 'age <= 28.5\\ngini = 0.199\\nsamples = 98\\nvalue = [[87, 11]\\n[11, 87]]'),\n",
       " Text(0.10843373493975904, 0.375, 'charges <= 18583.471\\ngini = 0.367\\nsamples = 33\\nvalue = [[25, 8]\\n[8, 25]]'),\n",
       " Text(0.08433734939759036, 0.2916666666666667, 'gini = 0.0\\nsamples = 24\\nvalue = [[24, 0]\\n[0, 24]]'),\n",
       " Text(0.13253012048192772, 0.2916666666666667, 'bmi <= 23.012\\ngini = 0.198\\nsamples = 9\\nvalue = [[1, 8]\\n[8, 1]]'),\n",
       " Text(0.10843373493975904, 0.20833333333333334, 'charges <= 20881.359\\ngini = 0.5\\nsamples = 2\\nvalue = [[1, 1]\\n[1, 1]]'),\n",
       " Text(0.08433734939759036, 0.125, 'gini = 0.0\\nsamples = 1\\nvalue = [[1, 0]\\n[0, 1]]'),\n",
       " Text(0.13253012048192772, 0.125, 'gini = 0.0\\nsamples = 1\\nvalue = [[0, 1]\\n[1, 0]]'),\n",
       " Text(0.1566265060240964, 0.20833333333333334, 'gini = 0.0\\nsamples = 7\\nvalue = [[0, 7]\\n[7, 0]]'),\n",
       " Text(0.27710843373493976, 0.375, 'age <= 33.5\\ngini = 0.088\\nsamples = 65\\nvalue = [[62, 3]\\n[3, 62]]'),\n",
       " Text(0.2289156626506024, 0.2916666666666667, 'charges <= 21728.475\\ngini = 0.198\\nsamples = 18\\nvalue = [[16, 2]\\n[2, 16]]'),\n",
       " Text(0.20481927710843373, 0.20833333333333334, 'region_southeast <= 0.5\\ngini = 0.111\\nsamples = 17\\nvalue = [[16, 1]\\n[1, 16]]'),\n",
       " Text(0.18072289156626506, 0.125, 'gini = 0.0\\nsamples = 13\\nvalue = [[13, 0]\\n[0, 13]]'),\n",
       " Text(0.2289156626506024, 0.125, 'bmi <= 25.795\\ngini = 0.375\\nsamples = 4\\nvalue = [[3, 1]\\n[1, 3]]'),\n",
       " Text(0.20481927710843373, 0.041666666666666664, 'gini = 0.0\\nsamples = 1\\nvalue = [[0, 1]\\n[1, 0]]'),\n",
       " Text(0.25301204819277107, 0.041666666666666664, 'gini = 0.0\\nsamples = 3\\nvalue = [[3, 0]\\n[0, 3]]'),\n",
       " Text(0.25301204819277107, 0.20833333333333334, 'gini = 0.0\\nsamples = 1\\nvalue = [[0, 1]\\n[1, 0]]'),\n",
       " Text(0.3253012048192771, 0.2916666666666667, 'children <= 2.5\\ngini = 0.042\\nsamples = 47\\nvalue = [[46, 1]\\n[1, 46]]'),\n",
       " Text(0.30120481927710846, 0.20833333333333334, 'gini = 0.0\\nsamples = 41\\nvalue = [[41, 0]\\n[0, 41]]'),\n",
       " Text(0.3493975903614458, 0.20833333333333334, 'bmi <= 26.84\\ngini = 0.278\\nsamples = 6\\nvalue = [[5, 1]\\n[1, 5]]'),\n",
       " Text(0.3253012048192771, 0.125, 'gini = 0.0\\nsamples = 5\\nvalue = [[5, 0]\\n[0, 5]]'),\n",
       " Text(0.37349397590361444, 0.125, 'gini = 0.0\\nsamples = 1\\nvalue = [[0, 1]\\n[1, 0]]'),\n",
       " Text(0.24096385542168675, 0.4583333333333333, 'gini = 0.0\\nsamples = 1\\nvalue = [[0, 1]\\n[1, 0]]'),\n",
       " Text(0.37349397590361444, 0.5416666666666666, 'bmi <= 29.805\\ngini = 0.5\\nsamples = 10\\nvalue = [[5, 5]\\n[5, 5]]'),\n",
       " Text(0.3493975903614458, 0.4583333333333333, 'age <= 27.0\\ngini = 0.278\\nsamples = 6\\nvalue = [[1, 5]\\n[5, 1]]'),\n",
       " Text(0.3253012048192771, 0.375, 'gini = 0.0\\nsamples = 1\\nvalue = [[1, 0]\\n[0, 1]]'),\n",
       " Text(0.37349397590361444, 0.375, 'gini = 0.0\\nsamples = 5\\nvalue = [[0, 5]\\n[5, 0]]'),\n",
       " Text(0.39759036144578314, 0.4583333333333333, 'gini = 0.0\\nsamples = 4\\nvalue = [[4, 0]\\n[0, 4]]'),\n",
       " Text(0.5903614457831325, 0.625, 'age <= 52.5\\ngini = 0.485\\nsamples = 41\\nvalue = [[24, 17]\\n[17, 24]]'),\n",
       " Text(0.4939759036144578, 0.5416666666666666, 'charges <= 25483.032\\ngini = 0.465\\nsamples = 19\\nvalue = [[7, 12]\\n[12, 7]]'),\n",
       " Text(0.4457831325301205, 0.4583333333333333, 'age <= 46.5\\ngini = 0.444\\nsamples = 9\\nvalue = [[6, 3]\\n[3, 6]]'),\n",
       " Text(0.42168674698795183, 0.375, 'gini = 0.0\\nsamples = 3\\nvalue = [[0, 3]\\n[3, 0]]'),\n",
       " Text(0.46987951807228917, 0.375, 'gini = 0.0\\nsamples = 6\\nvalue = [[6, 0]\\n[0, 6]]'),\n",
       " Text(0.5421686746987951, 0.4583333333333333, 'age <= 27.0\\ngini = 0.18\\nsamples = 10\\nvalue = [[1, 9]\\n[9, 1]]'),\n",
       " Text(0.5180722891566265, 0.375, 'gini = 0.0\\nsamples = 1\\nvalue = [[1, 0]\\n[0, 1]]'),\n",
       " Text(0.5662650602409639, 0.375, 'gini = 0.0\\nsamples = 9\\nvalue = [[0, 9]\\n[9, 0]]'),\n",
       " Text(0.6867469879518072, 0.5416666666666666, 'bmi <= 26.065\\ngini = 0.351\\nsamples = 22\\nvalue = [[17, 5]\\n[5, 17]]'),\n",
       " Text(0.6385542168674698, 0.4583333333333333, 'bmi <= 24.23\\ngini = 0.494\\nsamples = 9\\nvalue = [[5, 4]\\n[4, 5]]'),\n",
       " Text(0.6144578313253012, 0.375, 'gini = 0.0\\nsamples = 4\\nvalue = [[4, 0]\\n[0, 4]]'),\n",
       " Text(0.6626506024096386, 0.375, 'region_southwest <= 0.5\\ngini = 0.32\\nsamples = 5\\nvalue = [[1, 4]\\n[4, 1]]'),\n",
       " Text(0.6385542168674698, 0.2916666666666667, 'gini = 0.0\\nsamples = 4\\nvalue = [[0, 4]\\n[4, 0]]'),\n",
       " Text(0.6867469879518072, 0.2916666666666667, 'gini = 0.0\\nsamples = 1\\nvalue = [[1, 0]\\n[0, 1]]'),\n",
       " Text(0.7349397590361446, 0.4583333333333333, 'charges <= 30222.467\\ngini = 0.142\\nsamples = 13\\nvalue = [[12, 1]\\n[1, 12]]'),\n",
       " Text(0.7108433734939759, 0.375, 'gini = 0.0\\nsamples = 11\\nvalue = [[11, 0]\\n[0, 11]]'),\n",
       " Text(0.7590361445783133, 0.375, 'bmi <= 29.257\\ngini = 0.5\\nsamples = 2\\nvalue = [[1, 1]\\n[1, 1]]'),\n",
       " Text(0.7349397590361446, 0.2916666666666667, 'gini = 0.0\\nsamples = 1\\nvalue = [[0, 1]\\n[1, 0]]'),\n",
       " Text(0.7831325301204819, 0.2916666666666667, 'gini = 0.0\\nsamples = 1\\nvalue = [[1, 0]\\n[0, 1]]'),\n",
       " Text(0.49096385542168675, 0.7083333333333334, 'gini = 0.0\\nsamples = 49\\nvalue = [[0, 49]\\n[49, 0]]'),\n",
       " Text(0.8855421686746988, 0.7916666666666666, 'children <= 3.5\\ngini = 0.051\\nsamples = 154\\nvalue = [[150, 4]\\n[4, 150]]'),\n",
       " Text(0.8192771084337349, 0.7083333333333334, 'bmi <= 27.3\\ngini = 0.039\\nsamples = 152\\nvalue = [[149, 3]\\n[3, 149]]'),\n",
       " Text(0.7590361445783133, 0.625, 'region_southwest <= 0.5\\ngini = 0.375\\nsamples = 4\\nvalue = [[3, 1]\\n[1, 3]]'),\n",
       " Text(0.7349397590361446, 0.5416666666666666, 'gini = 0.0\\nsamples = 3\\nvalue = [[3, 0]\\n[0, 3]]'),\n",
       " Text(0.7831325301204819, 0.5416666666666666, 'gini = 0.0\\nsamples = 1\\nvalue = [[0, 1]\\n[1, 0]]'),\n",
       " Text(0.8795180722891566, 0.625, 'charges <= 33473.895\\ngini = 0.027\\nsamples = 148\\nvalue = [[146, 2]\\n[2, 146]]'),\n",
       " Text(0.8313253012048193, 0.5416666666666666, 'charges <= 33389.762\\ngini = 0.375\\nsamples = 4\\nvalue = [[3, 1]\\n[1, 3]]'),\n",
       " Text(0.8072289156626506, 0.4583333333333333, 'gini = 0.0\\nsamples = 3\\nvalue = [[3, 0]\\n[0, 3]]'),\n",
       " Text(0.8554216867469879, 0.4583333333333333, 'gini = 0.0\\nsamples = 1\\nvalue = [[0, 1]\\n[1, 0]]'),\n",
       " Text(0.927710843373494, 0.5416666666666666, 'age <= 58.5\\ngini = 0.014\\nsamples = 144\\nvalue = [[143, 1]\\n[1, 143]]'),\n",
       " Text(0.9036144578313253, 0.4583333333333333, 'gini = 0.0\\nsamples = 124\\nvalue = [[124, 0]\\n[0, 124]]'),\n",
       " Text(0.9518072289156626, 0.4583333333333333, 'charges <= 40959.783\\ngini = 0.095\\nsamples = 20\\nvalue = [[19, 1]\\n[1, 19]]'),\n",
       " Text(0.927710843373494, 0.375, 'gini = 0.0\\nsamples = 1\\nvalue = [[0, 1]\\n[1, 0]]'),\n",
       " Text(0.9759036144578314, 0.375, 'gini = 0.0\\nsamples = 19\\nvalue = [[19, 0]\\n[0, 19]]'),\n",
       " Text(0.9518072289156626, 0.7083333333333334, 'bmi <= 33.715\\ngini = 0.5\\nsamples = 2\\nvalue = [[1, 1]\\n[1, 1]]'),\n",
       " Text(0.927710843373494, 0.625, 'gini = 0.0\\nsamples = 1\\nvalue = [[0, 1]\\n[1, 0]]'),\n",
       " Text(0.9759036144578314, 0.625, 'gini = 0.0\\nsamples = 1\\nvalue = [[1, 0]\\n[0, 1]]')]"
      ]
     },
     "execution_count": 95,
     "metadata": {},
     "output_type": "execute_result"
    }
   ],
   "source": [
    "t"
   ]
  },
  {
   "cell_type": "code",
   "execution_count": 96,
   "id": "b9b8436b-03e0-4207-b735-f3f2e1d6ac21",
   "metadata": {},
   "outputs": [
    {
     "data": {
      "text/plain": [
       "array([0.04209139, 0.15678483, 0.00275692, 0.79037576, 0.        ,\n",
       "       0.        , 0.        , 0.        , 0.0008774 , 0.0071137 ])"
      ]
     },
     "execution_count": 96,
     "metadata": {},
     "output_type": "execute_result"
    }
   ],
   "source": [
    "model.feature_importances_"
   ]
  },
  {
   "cell_type": "markdown",
   "id": "2c673ac3-6615-4308-8c6f-8af8a6a4338f",
   "metadata": {},
   "source": [
    "+ Report: charges with 0.78808101, bmi with 0.14837077, age with 0.0482107 are the 3 most important features in predicting if a person smokes or not "
   ]
  },
  {
   "cell_type": "markdown",
   "id": "d65a6a65-98aa-4f65-86e5-6b20e95cfde9",
   "metadata": {},
   "source": [
    "How good is the performance of the decision tree model, compared to the naive classification strategy that works as follows.  Given a new customer, predict this customer is a smoker with probability 0.20.  In other words, if this method makes 100 predictions, about 20 of them are predicted as smokers.\n",
    "\n",
    "Suppose we have the following classification strategy: given a new customer, predict this customer is a smoker with probability proportional to the portion of smokers in the dataset.\n",
    "\n",
    "How good is the performance of the decision tree model compared to the strategy above.\n",
    "Note: in this dataset about 20% of the data are smokers and 80% are non-smokers."
   ]
  },
  {
   "cell_type": "code",
   "execution_count": 110,
   "id": "1b94a5ae-6667-401b-9e66-a23dfcaafbf3",
   "metadata": {},
   "outputs": [
    {
     "data": {
      "text/plain": [
       "DecisionTreeClassifier()"
      ]
     },
     "execution_count": 110,
     "metadata": {},
     "output_type": "execute_result"
    }
   ],
   "source": [
    "from sklearn.decomposition import PCA\n",
    "from sklearn.preprocessing import LabelEncoder\n",
    "import seaborn\n",
    "import pandas\n",
    "from matplotlib import pyplot\n",
    "\n",
    "df = pandas.read_csv('/Users/yashds/Documents/UofM/SECOND SEM/FDS/Datasets/insurance_costs.csv')\n",
    "\n",
    "X, y = df.drop(columns=['smoker']), df['smoker']\n",
    "X1 = pandas.get_dummies(X)\n",
    "y1 = pandas.get_dummies(y)\n",
    "model = DecisionTreeClassifier()\n",
    "validator = KFold(n_splits=5, shuffle=True)\n",
    "model.fit(X1,y1)"
   ]
  },
  {
   "cell_type": "code",
   "execution_count": 111,
   "id": "12b76a27-6128-4c09-a7ea-e57f30bb359f",
   "metadata": {},
   "outputs": [
    {
     "data": {
      "text/plain": [
       "array([1., 0.])"
      ]
     },
     "execution_count": 111,
     "metadata": {},
     "output_type": "execute_result"
    }
   ],
   "source": [
    "pca = PCA(n_components=2)\n",
    "Xpca = pca.fit_transform(X1)\n",
    "pca.explained_variance_ratio_.round(3)"
   ]
  },
  {
   "cell_type": "code",
   "execution_count": 115,
   "id": "0705eb2e-f923-430e-b0c9-8124b0669e6f",
   "metadata": {},
   "outputs": [
    {
     "data": {
      "text/html": [
       "<div>\n",
       "<style scoped>\n",
       "    .dataframe tbody tr th:only-of-type {\n",
       "        vertical-align: middle;\n",
       "    }\n",
       "\n",
       "    .dataframe tbody tr th {\n",
       "        vertical-align: top;\n",
       "    }\n",
       "\n",
       "    .dataframe thead th {\n",
       "        text-align: right;\n",
       "    }\n",
       "</style>\n",
       "<table border=\"1\" class=\"dataframe\">\n",
       "  <thead>\n",
       "    <tr style=\"text-align: right;\">\n",
       "      <th></th>\n",
       "      <th>pca1</th>\n",
       "      <th>pca2</th>\n",
       "    </tr>\n",
       "  </thead>\n",
       "  <tbody>\n",
       "    <tr>\n",
       "      <th>age</th>\n",
       "      <td>0.0</td>\n",
       "      <td>-1.00</td>\n",
       "    </tr>\n",
       "    <tr>\n",
       "      <th>bmi</th>\n",
       "      <td>0.0</td>\n",
       "      <td>-0.03</td>\n",
       "    </tr>\n",
       "    <tr>\n",
       "      <th>children</th>\n",
       "      <td>0.0</td>\n",
       "      <td>-0.00</td>\n",
       "    </tr>\n",
       "    <tr>\n",
       "      <th>charges</th>\n",
       "      <td>1.0</td>\n",
       "      <td>0.00</td>\n",
       "    </tr>\n",
       "    <tr>\n",
       "      <th>sex_female</th>\n",
       "      <td>-0.0</td>\n",
       "      <td>-0.00</td>\n",
       "    </tr>\n",
       "    <tr>\n",
       "      <th>sex_male</th>\n",
       "      <td>0.0</td>\n",
       "      <td>0.00</td>\n",
       "    </tr>\n",
       "    <tr>\n",
       "      <th>region_northeast</th>\n",
       "      <td>0.0</td>\n",
       "      <td>0.00</td>\n",
       "    </tr>\n",
       "    <tr>\n",
       "      <th>region_northwest</th>\n",
       "      <td>-0.0</td>\n",
       "      <td>-0.00</td>\n",
       "    </tr>\n",
       "    <tr>\n",
       "      <th>region_southeast</th>\n",
       "      <td>0.0</td>\n",
       "      <td>0.00</td>\n",
       "    </tr>\n",
       "    <tr>\n",
       "      <th>region_southwest</th>\n",
       "      <td>-0.0</td>\n",
       "      <td>-0.00</td>\n",
       "    </tr>\n",
       "  </tbody>\n",
       "</table>\n",
       "</div>"
      ],
      "text/plain": [
       "                  pca1  pca2\n",
       "age                0.0 -1.00\n",
       "bmi                0.0 -0.03\n",
       "children           0.0 -0.00\n",
       "charges            1.0  0.00\n",
       "sex_female        -0.0 -0.00\n",
       "sex_male           0.0  0.00\n",
       "region_northeast   0.0  0.00\n",
       "region_northwest  -0.0 -0.00\n",
       "region_southeast   0.0  0.00\n",
       "region_southwest  -0.0 -0.00"
      ]
     },
     "execution_count": 115,
     "metadata": {},
     "output_type": "execute_result"
    }
   ],
   "source": [
    "df1 = pandas.DataFrame(pca.components_.T, \n",
    "                      index=X1.columns, \n",
    "                      columns=['pca1','pca2'])\n",
    "df1.round(2)"
   ]
  },
  {
   "cell_type": "code",
   "execution_count": 120,
   "id": "055541b1-eb2a-4b12-9af9-b796e3a6580d",
   "metadata": {},
   "outputs": [
    {
     "data": {
      "text/plain": [
       "PCA(n_components=2)"
      ]
     },
     "execution_count": 120,
     "metadata": {},
     "output_type": "execute_result"
    }
   ],
   "source": [
    "pca.fit(X1)"
   ]
  },
  {
   "cell_type": "code",
   "execution_count": 121,
   "id": "029e829b-a8da-4f84-a968-15fb31bacd59",
   "metadata": {},
   "outputs": [
    {
     "data": {
      "text/plain": [
       "array([[ 3.46907868e-04, -9.99554224e-01],\n",
       "       [ 9.98777470e-05, -2.96761358e-02],\n",
       "       [ 6.76889338e-06, -2.09946354e-03],\n",
       "       [ 9.99999935e-01,  3.49719947e-04],\n",
       "       [-2.36623766e-06, -1.46970748e-03],\n",
       "       [ 2.36623766e-06,  1.46970748e-03],\n",
       "       [ 2.24668593e-07,  4.09586391e-05],\n",
       "       [-1.41362405e-06, -3.31386143e-04],\n",
       "       [ 2.71966409e-06,  1.06087884e-03],\n",
       "       [-1.53070864e-06, -7.70451332e-04]])"
      ]
     },
     "execution_count": 121,
     "metadata": {},
     "output_type": "execute_result"
    }
   ],
   "source": [
    "pca.components_.T"
   ]
  },
  {
   "cell_type": "code",
   "execution_count": 122,
   "id": "e22afe8a-6b68-4593-8157-9650dd02556d",
   "metadata": {},
   "outputs": [
    {
     "data": {
      "text/plain": [
       "array([9.99998512e-01, 1.22658264e-06])"
      ]
     },
     "execution_count": 122,
     "metadata": {},
     "output_type": "execute_result"
    }
   ],
   "source": [
    "pca.explained_variance_ratio_"
   ]
  },
  {
   "cell_type": "code",
   "execution_count": 123,
   "id": "37ce2eeb-3fe6-473c-9263-291020a55565",
   "metadata": {},
   "outputs": [
    {
     "data": {
      "text/html": [
       "<div>\n",
       "<style scoped>\n",
       "    .dataframe tbody tr th:only-of-type {\n",
       "        vertical-align: middle;\n",
       "    }\n",
       "\n",
       "    .dataframe tbody tr th {\n",
       "        vertical-align: top;\n",
       "    }\n",
       "\n",
       "    .dataframe thead th {\n",
       "        text-align: right;\n",
       "    }\n",
       "</style>\n",
       "<table border=\"1\" class=\"dataframe\">\n",
       "  <thead>\n",
       "    <tr style=\"text-align: right;\">\n",
       "      <th></th>\n",
       "      <th>pca1</th>\n",
       "      <th>pca2</th>\n",
       "    </tr>\n",
       "  </thead>\n",
       "  <tbody>\n",
       "    <tr>\n",
       "      <th>age</th>\n",
       "      <td>0.0</td>\n",
       "      <td>-1.00</td>\n",
       "    </tr>\n",
       "    <tr>\n",
       "      <th>bmi</th>\n",
       "      <td>0.0</td>\n",
       "      <td>-0.03</td>\n",
       "    </tr>\n",
       "    <tr>\n",
       "      <th>children</th>\n",
       "      <td>0.0</td>\n",
       "      <td>-0.00</td>\n",
       "    </tr>\n",
       "    <tr>\n",
       "      <th>charges</th>\n",
       "      <td>1.0</td>\n",
       "      <td>0.00</td>\n",
       "    </tr>\n",
       "    <tr>\n",
       "      <th>sex_female</th>\n",
       "      <td>-0.0</td>\n",
       "      <td>-0.00</td>\n",
       "    </tr>\n",
       "    <tr>\n",
       "      <th>sex_male</th>\n",
       "      <td>0.0</td>\n",
       "      <td>0.00</td>\n",
       "    </tr>\n",
       "    <tr>\n",
       "      <th>region_northeast</th>\n",
       "      <td>0.0</td>\n",
       "      <td>0.00</td>\n",
       "    </tr>\n",
       "    <tr>\n",
       "      <th>region_northwest</th>\n",
       "      <td>-0.0</td>\n",
       "      <td>-0.00</td>\n",
       "    </tr>\n",
       "    <tr>\n",
       "      <th>region_southeast</th>\n",
       "      <td>0.0</td>\n",
       "      <td>0.00</td>\n",
       "    </tr>\n",
       "    <tr>\n",
       "      <th>region_southwest</th>\n",
       "      <td>-0.0</td>\n",
       "      <td>-0.00</td>\n",
       "    </tr>\n",
       "  </tbody>\n",
       "</table>\n",
       "</div>"
      ],
      "text/plain": [
       "                  pca1  pca2\n",
       "age                0.0 -1.00\n",
       "bmi                0.0 -0.03\n",
       "children           0.0 -0.00\n",
       "charges            1.0  0.00\n",
       "sex_female        -0.0 -0.00\n",
       "sex_male           0.0  0.00\n",
       "region_northeast   0.0  0.00\n",
       "region_northwest  -0.0 -0.00\n",
       "region_southeast   0.0  0.00\n",
       "region_southwest  -0.0 -0.00"
      ]
     },
     "execution_count": 123,
     "metadata": {},
     "output_type": "execute_result"
    }
   ],
   "source": [
    "df = pandas.DataFrame(pca.components_.T, \n",
    "                      index=X1.columns, \n",
    "                      columns=['pca1','pca2'])\n",
    "df.round(2)"
   ]
  },
  {
   "cell_type": "code",
   "execution_count": 124,
   "id": "b621a270-f069-4388-844c-ca2a6806d4fd",
   "metadata": {},
   "outputs": [
    {
     "data": {
      "text/plain": [
       "array([[ 0.  , -1.  ],\n",
       "       [ 0.  , -0.03],\n",
       "       [ 0.  , -0.  ],\n",
       "       [ 1.  ,  0.  ],\n",
       "       [-0.  , -0.  ],\n",
       "       [ 0.  ,  0.  ],\n",
       "       [ 0.  ,  0.  ],\n",
       "       [-0.  , -0.  ],\n",
       "       [ 0.  ,  0.  ],\n",
       "       [-0.  , -0.  ]])"
      ]
     },
     "execution_count": 124,
     "metadata": {},
     "output_type": "execute_result"
    }
   ],
   "source": [
    "pca.components_.T.round(2)"
   ]
  },
  {
   "cell_type": "code",
   "execution_count": 125,
   "id": "0c646aef-0353-4d4d-9cd5-f2b547ac2775",
   "metadata": {},
   "outputs": [
    {
     "name": "stdout",
     "output_type": "stream",
     "text": [
      "0.64\n"
     ]
    }
   ],
   "source": [
    "cv = ShuffleSplit(n_splits=100)\n",
    "r = cross_validate(model, Xpca, y1, cv=cv, scoring='r2')\n",
    "print(r['test_score'].mean().round(2))"
   ]
  },
  {
   "cell_type": "markdown",
   "id": "0e9296ff-5647-4203-9a47-e2c4e02ed2ce",
   "metadata": {},
   "source": [
    "+ Report: As we can see the performance of the naive classifican strategy (0.64) is little bit lower when compared to the Decision tree classifier(0.76)."
   ]
  }
 ],
 "metadata": {
  "kernelspec": {
   "display_name": "Python 3 (ipykernel)",
   "language": "python",
   "name": "python3"
  },
  "language_info": {
   "codemirror_mode": {
    "name": "ipython",
    "version": 3
   },
   "file_extension": ".py",
   "mimetype": "text/x-python",
   "name": "python",
   "nbconvert_exporter": "python",
   "pygments_lexer": "ipython3",
   "version": "3.9.12"
  }
 },
 "nbformat": 4,
 "nbformat_minor": 5
}
